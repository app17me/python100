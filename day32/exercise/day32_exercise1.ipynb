{
 "cells": [
  {
   "cell_type": "markdown",
   "metadata": {},
   "source": [
    "# 自動發email程式"
   ]
  },
  {
   "cell_type": "code",
   "execution_count": 31,
   "metadata": {},
   "outputs": [],
   "source": [
    "import pandas as pd\n",
    "from datetime import datetime"
   ]
  },
  {
   "cell_type": "code",
   "execution_count": 32,
   "metadata": {},
   "outputs": [
    {
     "data": {
      "text/plain": [
       "datetime.datetime(2021, 1, 4, 18, 48, 6, 343334)"
      ]
     },
     "execution_count": 32,
     "metadata": {},
     "output_type": "execute_result"
    }
   ],
   "source": [
    "datetime.now()"
   ]
  },
  {
   "cell_type": "code",
   "execution_count": 33,
   "metadata": {},
   "outputs": [
    {
     "data": {
      "text/plain": [
       "datetime.datetime(2021, 1, 4, 18, 48, 6, 515586)"
      ]
     },
     "execution_count": 33,
     "metadata": {},
     "output_type": "execute_result"
    }
   ],
   "source": [
    "today=datetime.now()\n",
    "today"
   ]
  },
  {
   "cell_type": "code",
   "execution_count": 34,
   "metadata": {},
   "outputs": [
    {
     "data": {
      "text/plain": [
       "(1, 4)"
      ]
     },
     "execution_count": 34,
     "metadata": {},
     "output_type": "execute_result"
    }
   ],
   "source": [
    "today_tuple=(today.month,today.day)\n",
    "today_tuple"
   ]
  },
  {
   "cell_type": "code",
   "execution_count": 45,
   "metadata": {
    "scrolled": true
   },
   "outputs": [
    {
     "data": {
      "text/html": [
       "<div>\n",
       "<style scoped>\n",
       "    .dataframe tbody tr th:only-of-type {\n",
       "        vertical-align: middle;\n",
       "    }\n",
       "\n",
       "    .dataframe tbody tr th {\n",
       "        vertical-align: top;\n",
       "    }\n",
       "\n",
       "    .dataframe thead th {\n",
       "        text-align: right;\n",
       "    }\n",
       "</style>\n",
       "<table border=\"1\" class=\"dataframe\">\n",
       "  <thead>\n",
       "    <tr style=\"text-align: right;\">\n",
       "      <th></th>\n",
       "      <th>name</th>\n",
       "      <th>email</th>\n",
       "      <th>year</th>\n",
       "      <th>month</th>\n",
       "      <th>day</th>\n",
       "    </tr>\n",
       "  </thead>\n",
       "  <tbody>\n",
       "    <tr>\n",
       "      <th>0</th>\n",
       "      <td>Mom</td>\n",
       "      <td>iiiplay001@gmail.com</td>\n",
       "      <td>1975</td>\n",
       "      <td>1</td>\n",
       "      <td>4</td>\n",
       "    </tr>\n",
       "    <tr>\n",
       "      <th>1</th>\n",
       "      <td>Dad</td>\n",
       "      <td>iiiplay002@gmail.com</td>\n",
       "      <td>1988</td>\n",
       "      <td>2</td>\n",
       "      <td>4</td>\n",
       "    </tr>\n",
       "    <tr>\n",
       "      <th>2</th>\n",
       "      <td>Jerry</td>\n",
       "      <td>17app001@gmail.com</td>\n",
       "      <td>1988</td>\n",
       "      <td>1</td>\n",
       "      <td>4</td>\n",
       "    </tr>\n",
       "  </tbody>\n",
       "</table>\n",
       "</div>"
      ],
      "text/plain": [
       "    name                 email  year  month  day\n",
       "0    Mom  iiiplay001@gmail.com  1975      1    4\n",
       "1    Dad  iiiplay002@gmail.com  1988      2    4\n",
       "2  Jerry    17app001@gmail.com  1988      1    4"
      ]
     },
     "execution_count": 45,
     "metadata": {},
     "output_type": "execute_result"
    }
   ],
   "source": [
    "datas=pd.read_csv('birthdays.csv')\n",
    "datas"
   ]
  },
  {
   "cell_type": "markdown",
   "metadata": {},
   "source": [
    "## 進行每列查找  \n",
    "比對日期是否一致"
   ]
  },
  {
   "cell_type": "code",
   "execution_count": 55,
   "metadata": {},
   "outputs": [
    {
     "name": "stdout",
     "output_type": "stream",
     "text": [
      "Mom iiiplay001@gmail.com\n",
      "Jerry 17app001@gmail.com\n"
     ]
    }
   ],
   "source": [
    "for index,data in datas.iterrows():\n",
    "    if (data['month'],data['day'])==today_tuple:\n",
    "        print(data['name'],data['email'])"
   ]
  },
  {
   "cell_type": "markdown",
   "metadata": {},
   "source": [
    "## 開啟文檔"
   ]
  },
  {
   "cell_type": "code",
   "execution_count": 73,
   "metadata": {},
   "outputs": [],
   "source": [
    "import xtools as xt\n",
    "import random "
   ]
  },
  {
   "cell_type": "code",
   "execution_count": 74,
   "metadata": {},
   "outputs": [
    {
     "data": {
      "text/plain": [
       "'letter_templates/letter_3.txt'"
      ]
     },
     "execution_count": 74,
     "metadata": {},
     "output_type": "execute_result"
    }
   ],
   "source": [
    "file_path=f'letter_templates/letter_{random.randint(1,3)}.txt'\n",
    "file_path"
   ]
  },
  {
   "cell_type": "code",
   "execution_count": 70,
   "metadata": {},
   "outputs": [
    {
     "name": "stdout",
     "output_type": "stream",
     "text": [
      "-----------------------------------------\n",
      "Hey Mom,\n",
      "\n",
      "Happy birthday! Have a wonderful time today and eat lots of cake!\n",
      "\n",
      "Lots of love,\n",
      "\n",
      "Angela\n",
      "-----------------------------------------\n",
      "Dear Jerry,\n",
      "\n",
      "Happy birthday!\n",
      "\n",
      "All the best for the year!\n",
      "\n",
      "Angela\n"
     ]
    }
   ],
   "source": [
    "for index,data in datas.iterrows():\n",
    "    if (data['month'],data['day'])==today_tuple:     \n",
    "        print('-----------------------------------------')\n",
    "        file_path=f'letter_templates/letter_{random.randint(1,3)}.txt'\n",
    "        with open(file_path) as f:\n",
    "            print(f.read().replace('[NAME]',data['name']))"
   ]
  },
  {
   "cell_type": "markdown",
   "metadata": {},
   "source": [
    "## 發送Email"
   ]
  },
  {
   "cell_type": "code",
   "execution_count": 75,
   "metadata": {},
   "outputs": [
    {
     "name": "stdout",
     "output_type": "stream",
     "text": [
      "-----------------------------------------\n",
      "信件發送至iiiplay001@gmail.com 成功!\n",
      "-----------------------------------------\n",
      "信件發送至17app001@gmail.com 成功!\n"
     ]
    }
   ],
   "source": [
    "for index,data in datas.iterrows():\n",
    "    if (data['month'],data['day'])==today_tuple:     \n",
    "        print('-----------------------------------------')\n",
    "        file_path=f'letter_templates/letter_{random.randint(1,3)}.txt'\n",
    "        with open(file_path) as f:\n",
    "            msg=f.read().replace('[NAME]',data['name'])\n",
    "            \n",
    "        xt.sendEmail(data['email'],data['name']+' 生日快樂!',msg)"
   ]
  },
  {
   "cell_type": "code",
   "execution_count": null,
   "metadata": {},
   "outputs": [],
   "source": []
  }
 ],
 "metadata": {
  "kernelspec": {
   "display_name": "Python 3",
   "language": "python",
   "name": "python3"
  },
  "language_info": {
   "codemirror_mode": {
    "name": "ipython",
    "version": 3
   },
   "file_extension": ".py",
   "mimetype": "text/x-python",
   "name": "python",
   "nbconvert_exporter": "python",
   "pygments_lexer": "ipython3",
   "version": "3.8.3"
  }
 },
 "nbformat": 4,
 "nbformat_minor": 4
}
