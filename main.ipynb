{
 "metadata": {
  "language_info": {
   "codemirror_mode": {
    "name": "ipython",
    "version": 3
   },
   "file_extension": ".py",
   "mimetype": "text/x-python",
   "name": "python",
   "nbconvert_exporter": "python",
   "pygments_lexer": "ipython3",
   "version": "3.8.3-final"
  },
  "orig_nbformat": 2,
  "kernelspec": {
   "name": "python3",
   "display_name": "Python 3",
   "language": "python"
  }
 },
 "nbformat": 4,
 "nbformat_minor": 2,
 "cells": [
  {
   "cell_type": "code",
   "execution_count": 42,
   "metadata": {},
   "outputs": [],
   "source": [
    "from bs4 import BeautifulSoup"
   ]
  },
  {
   "cell_type": "code",
   "execution_count": 43,
   "metadata": {},
   "outputs": [
    {
     "output_type": "execute_result",
     "data": {
      "text/plain": [
       "'<!DOCTYPE html>\\n<html>\\n\\n<head>\\n\\t<meta charset=\"utf-8\">\\n\\t<title>Angela\\'s Personal Site</title>\\n</head>\\n\\n<body>\\n\\t<h1 id=\"name\">Angela Yu</h1>\\n\\t<p><em>Founder of <strong><a href=\"https://www.appbrewery.co/\">The App Brewery</a></strong>.</em></p>\\n\\t<p>I am an iOS and Web Developer. I ❤️ coffee and motorcycles.</p>\\n\\t<hr>\\n\\t<h3 class=\"heading\">Books and Teaching</h3>\\n\\t<ul>\\n\\t\\t<li>The Complete iOS App Development Bootcamp</li>\\n\\t\\t<li>The Complete Web Development Bootcamp</li>\\n\\t\\t<li>100 Days of Code - The Complete Python Bootcamp</li>\\n\\t</ul>\\n\\t<hr>\\n\\t<h3 class=\"heading\">Other Pages</h3>\\n\\t<a href=\"https://angelabauer.github.io/cv/hobbies.html\">My Hobbies</a>\\n\\t<a href=\"https://angelabauer.github.io/cv/contact-me.html\">Contact Me</a>\\n</body>\\n\\n</html>'"
      ]
     },
     "metadata": {},
     "execution_count": 43
    }
   ],
   "source": [
    "with open('day45/website.html',encoding='utf-8') as file:\n",
    "    contents=file.read()\n",
    "contents"
   ]
  },
  {
   "cell_type": "code",
   "execution_count": 44,
   "metadata": {},
   "outputs": [
    {
     "output_type": "execute_result",
     "data": {
      "text/plain": [
       "<!DOCTYPE html>\n",
       "<html>\n",
       "<head>\n",
       "<meta charset=\"utf-8\"/>\n",
       "<title>Angela's Personal Site</title>\n",
       "</head>\n",
       "<body>\n",
       "<h1 id=\"name\">Angela Yu</h1>\n",
       "<p><em>Founder of <strong><a href=\"https://www.appbrewery.co/\">The App Brewery</a></strong>.</em></p>\n",
       "<p>I am an iOS and Web Developer. I ❤️ coffee and motorcycles.</p>\n",
       "<hr/>\n",
       "<h3 class=\"heading\">Books and Teaching</h3>\n",
       "<ul>\n",
       "<li>The Complete iOS App Development Bootcamp</li>\n",
       "<li>The Complete Web Development Bootcamp</li>\n",
       "<li>100 Days of Code - The Complete Python Bootcamp</li>\n",
       "</ul>\n",
       "<hr/>\n",
       "<h3 class=\"heading\">Other Pages</h3>\n",
       "<a href=\"https://angelabauer.github.io/cv/hobbies.html\">My Hobbies</a>\n",
       "<a href=\"https://angelabauer.github.io/cv/contact-me.html\">Contact Me</a>\n",
       "</body>\n",
       "</html>"
      ]
     },
     "metadata": {},
     "execution_count": 44
    }
   ],
   "source": [
    "soup=BeautifulSoup(contents,'lxml')\n",
    "soup"
   ]
  },
  {
   "source": [
    "print(soup.prettify())"
   ],
   "cell_type": "code",
   "metadata": {},
   "execution_count": 45,
   "outputs": [
    {
     "output_type": "stream",
     "name": "stdout",
     "text": [
      "<!DOCTYPE html>\n<html>\n <head>\n  <meta charset=\"utf-8\"/>\n  <title>\n   Angela's Personal Site\n  </title>\n </head>\n <body>\n  <h1 id=\"name\">\n   Angela Yu\n  </h1>\n  <p>\n   <em>\n    Founder of\n    <strong>\n     <a href=\"https://www.appbrewery.co/\">\n      The App Brewery\n     </a>\n    </strong>\n    .\n   </em>\n  </p>\n  <p>\n   I am an iOS and Web Developer. I ❤️ coffee and motorcycles.\n  </p>\n  <hr/>\n  <h3 class=\"heading\">\n   Books and Teaching\n  </h3>\n  <ul>\n   <li>\n    The Complete iOS App Development Bootcamp\n   </li>\n   <li>\n    The Complete Web Development Bootcamp\n   </li>\n   <li>\n    100 Days of Code - The Complete Python Bootcamp\n   </li>\n  </ul>\n  <hr/>\n  <h3 class=\"heading\">\n   Other Pages\n  </h3>\n  <a href=\"https://angelabauer.github.io/cv/hobbies.html\">\n   My Hobbies\n  </a>\n  <a href=\"https://angelabauer.github.io/cv/contact-me.html\">\n   Contact Me\n  </a>\n </body>\n</html>\n"
     ]
    }
   ]
  },
  {
   "source": [
    "# 使用find_all  \n",
    "find by tag \n",
    "https://www.crummy.com/software/BeautifulSoup/bs4/doc.zh/"
   ],
   "cell_type": "markdown",
   "metadata": {}
  },
  {
   "cell_type": "code",
   "execution_count": 46,
   "metadata": {},
   "outputs": [
    {
     "output_type": "execute_result",
     "data": {
      "text/plain": [
       "\"Angela's Personal Site\""
      ]
     },
     "metadata": {},
     "execution_count": 46
    }
   ],
   "source": [
    "soup.title.text"
   ]
  },
  {
   "cell_type": "code",
   "execution_count": 47,
   "metadata": {},
   "outputs": [
    {
     "output_type": "execute_result",
     "data": {
      "text/plain": [
       "\"Angela's Personal Site\""
      ]
     },
     "metadata": {},
     "execution_count": 47
    }
   ],
   "source": [
    "soup.title.getText()"
   ]
  },
  {
   "cell_type": "code",
   "execution_count": 48,
   "metadata": {},
   "outputs": [
    {
     "output_type": "execute_result",
     "data": {
      "text/plain": [
       "<p><em>Founder of <strong><a href=\"https://www.appbrewery.co/\">The App Brewery</a></strong>.</em></p>"
      ]
     },
     "metadata": {},
     "execution_count": 48
    }
   ],
   "source": [
    "soup.p"
   ]
  },
  {
   "source": [
    "soup.find_all('a')"
   ],
   "cell_type": "code",
   "metadata": {},
   "execution_count": 49,
   "outputs": [
    {
     "output_type": "execute_result",
     "data": {
      "text/plain": [
       "[<a href=\"https://www.appbrewery.co/\">The App Brewery</a>,\n",
       " <a href=\"https://angelabauer.github.io/cv/hobbies.html\">My Hobbies</a>,\n",
       " <a href=\"https://angelabauer.github.io/cv/contact-me.html\">Contact Me</a>]"
      ]
     },
     "metadata": {},
     "execution_count": 49
    }
   ]
  },
  {
   "cell_type": "code",
   "execution_count": 50,
   "metadata": {},
   "outputs": [
    {
     "output_type": "stream",
     "name": "stdout",
     "text": [
      "The App Brewery\nhttps://www.appbrewery.co/\nMy Hobbies\nhttps://angelabauer.github.io/cv/hobbies.html\nContact Me\nhttps://angelabauer.github.io/cv/contact-me.html\n"
     ]
    }
   ],
   "source": [
    "for tag in soup.find_all('a'):\n",
    "    print(tag.text)\n",
    "    print(tag.get('href'))    "
   ]
  },
  {
   "source": [
    "# 查找by id"
   ],
   "cell_type": "markdown",
   "metadata": {}
  },
  {
   "cell_type": "code",
   "execution_count": 51,
   "metadata": {},
   "outputs": [
    {
     "output_type": "execute_result",
     "data": {
      "text/plain": [
       "<h1 id=\"name\">Angela Yu</h1>"
      ]
     },
     "metadata": {},
     "execution_count": 51
    }
   ],
   "source": [
    "soup.find(id=\"name\")"
   ]
  },
  {
   "cell_type": "code",
   "execution_count": 52,
   "metadata": {},
   "outputs": [
    {
     "output_type": "execute_result",
     "data": {
      "text/plain": [
       "<h3 class=\"heading\">Books and Teaching</h3>"
      ]
     },
     "metadata": {},
     "execution_count": 52
    }
   ],
   "source": [
    "heading=soup.find(name='h3',class_='heading')\n",
    "heading"
   ]
  },
  {
   "cell_type": "code",
   "execution_count": 53,
   "metadata": {},
   "outputs": [
    {
     "output_type": "execute_result",
     "data": {
      "text/plain": [
       "'Books and Teaching'"
      ]
     },
     "metadata": {},
     "execution_count": 53
    }
   ],
   "source": [
    "heading.text"
   ]
  },
  {
   "cell_type": "code",
   "execution_count": 54,
   "metadata": {},
   "outputs": [
    {
     "output_type": "execute_result",
     "data": {
      "text/plain": [
       "['heading']"
      ]
     },
     "metadata": {},
     "execution_count": 54
    }
   ],
   "source": [
    "heading.get('class')"
   ]
  },
  {
   "cell_type": "code",
   "execution_count": 55,
   "metadata": {},
   "outputs": [
    {
     "output_type": "execute_result",
     "data": {
      "text/plain": [
       "[<a href=\"https://www.appbrewery.co/\">The App Brewery</a>,\n",
       " <a href=\"https://angelabauer.github.io/cv/hobbies.html\">My Hobbies</a>,\n",
       " <a href=\"https://angelabauer.github.io/cv/contact-me.html\">Contact Me</a>]"
      ]
     },
     "metadata": {},
     "execution_count": 55
    }
   ],
   "source": [
    "soup.find_all('a')"
   ]
  },
  {
   "source": [
    "# 查找by CSS SELECTOR"
   ],
   "cell_type": "markdown",
   "metadata": {}
  },
  {
   "cell_type": "code",
   "execution_count": 56,
   "metadata": {},
   "outputs": [
    {
     "output_type": "execute_result",
     "data": {
      "text/plain": [
       "<a href=\"https://www.appbrewery.co/\">The App Brewery</a>"
      ]
     },
     "metadata": {},
     "execution_count": 56
    }
   ],
   "source": [
    "soup.select_one(selector=\"p a\")"
   ]
  },
  {
   "source": [
    "soup"
   ],
   "cell_type": "code",
   "metadata": {},
   "execution_count": 57,
   "outputs": [
    {
     "output_type": "execute_result",
     "data": {
      "text/plain": [
       "<!DOCTYPE html>\n",
       "<html>\n",
       "<head>\n",
       "<meta charset=\"utf-8\"/>\n",
       "<title>Angela's Personal Site</title>\n",
       "</head>\n",
       "<body>\n",
       "<h1 id=\"name\">Angela Yu</h1>\n",
       "<p><em>Founder of <strong><a href=\"https://www.appbrewery.co/\">The App Brewery</a></strong>.</em></p>\n",
       "<p>I am an iOS and Web Developer. I ❤️ coffee and motorcycles.</p>\n",
       "<hr/>\n",
       "<h3 class=\"heading\">Books and Teaching</h3>\n",
       "<ul>\n",
       "<li>The Complete iOS App Development Bootcamp</li>\n",
       "<li>The Complete Web Development Bootcamp</li>\n",
       "<li>100 Days of Code - The Complete Python Bootcamp</li>\n",
       "</ul>\n",
       "<hr/>\n",
       "<h3 class=\"heading\">Other Pages</h3>\n",
       "<a href=\"https://angelabauer.github.io/cv/hobbies.html\">My Hobbies</a>\n",
       "<a href=\"https://angelabauer.github.io/cv/contact-me.html\">Contact Me</a>\n",
       "</body>\n",
       "</html>"
      ]
     },
     "metadata": {},
     "execution_count": 57
    }
   ]
  },
  {
   "source": [
    "# 使用css select 查找id  \n",
    "## 使用[#]"
   ],
   "cell_type": "markdown",
   "metadata": {}
  },
  {
   "cell_type": "code",
   "execution_count": 58,
   "metadata": {},
   "outputs": [
    {
     "output_type": "execute_result",
     "data": {
      "text/plain": [
       "<h1 id=\"name\">Angela Yu</h1>"
      ]
     },
     "metadata": {},
     "execution_count": 58
    }
   ],
   "source": [
    "name=soup.select_one(selector='#name')\n",
    "name"
   ]
  },
  {
   "cell_type": "code",
   "execution_count": 59,
   "metadata": {},
   "outputs": [
    {
     "output_type": "execute_result",
     "data": {
      "text/plain": [
       "'Angela Yu'"
      ]
     },
     "metadata": {},
     "execution_count": 59
    }
   ],
   "source": [
    "name.text"
   ]
  },
  {
   "cell_type": "code",
   "execution_count": 60,
   "metadata": {},
   "outputs": [
    {
     "output_type": "execute_result",
     "data": {
      "text/plain": [
       "[<h3 class=\"heading\">Books and Teaching</h3>,\n",
       " <h3 class=\"heading\">Other Pages</h3>]"
      ]
     },
     "metadata": {},
     "execution_count": 60
    }
   ],
   "source": [
    "headings=soup.select(\".heading\")\n",
    "headings"
   ]
  },
  {
   "cell_type": "code",
   "execution_count": 61,
   "metadata": {},
   "outputs": [
    {
     "output_type": "execute_result",
     "data": {
      "text/plain": [
       "['Books and Teaching', 'Other Pages']"
      ]
     },
     "metadata": {},
     "execution_count": 61
    }
   ],
   "source": [
    "[ heading.text for heading in headings]"
   ]
  },
  {
   "source": [
    "# 抓取網站資料 (YCombinator)  \n",
    "https://news.ycombinator.com/news"
   ],
   "cell_type": "markdown",
   "metadata": {}
  },
  {
   "cell_type": "code",
   "execution_count": 62,
   "metadata": {},
   "outputs": [],
   "source": [
    "import requests"
   ]
  },
  {
   "cell_type": "code",
   "execution_count": 63,
   "metadata": {},
   "outputs": [],
   "source": [
    "url='https://news.ycombinator.com/news'"
   ]
  },
  {
   "cell_type": "code",
   "execution_count": 64,
   "metadata": {},
   "outputs": [
    {
     "output_type": "execute_result",
     "data": {
      "text/plain": [
       "<Response [200]>"
      ]
     },
     "metadata": {},
     "execution_count": 64
    }
   ],
   "source": [
    "respone=requests.get(url)\n",
    "respone"
   ]
  },
  {
   "source": [
    "respone.text"
   ],
   "cell_type": "code",
   "metadata": {},
   "execution_count": 65,
   "outputs": [
    {
     "output_type": "execute_result",
     "data": {
      "text/plain": [
       "span></td></tr><tr><td colspan=\"2\"></td><td class=\"subtext\">\\n        <span class=\"score\" id=\"score_25683158\">16 points</span> by <a href=\"user?id=Tomte\" class=\"hnuser\">Tomte</a> <span class=\"age\"><a href=\"item?id=25683158\">4 hours ago</a></span> <span id=\"unv_25683158\"></span> | <a href=\"hide?id=25683158&amp;goto=news\">hide</a> | <a href=\"item?id=25683158\">1&nbsp;comment</a>              </td></tr>\\n      <tr class=\"spacer\" style=\"height:5px\"></tr>\\n                <tr class=\\'athing\\' id=\\'25679388\\'>\\n      <td align=\"right\" valign=\"top\" class=\"title\"><span class=\"rank\">14.</span></td>      <td valign=\"top\" class=\"votelinks\"><center><a id=\\'up_25679388\\' href=\\'vote?id=25679388&amp;how=up&amp;goto=news\\'><div class=\\'votearrow\\' title=\\'upvote\\'></div></a></center></td><td class=\"title\"><a href=\"https://krebsonsecurity.com/2021/01/sealed-u-s-court-records-exposed-in-solarwinds-breach/\" class=\"storylink\">Sealed U.S. Court Records Exposed in SolarWinds Breach</a><span class=\"sitebit comhead\"> (<a href=\"from?site=krebsonsecurity.com\"><span class=\"sitestr\">krebsonsecurity.com</span></a>)</span></td></tr><tr><td colspan=\"2\"></td><td class=\"subtext\">\\n        <span class=\"score\" id=\"score_25679388\">353 points</span> by <a href=\"user?id=parsecs\" class=\"hnuser\">parsecs</a> <span class=\"age\"><a href=\"item?id=25679388\">14 hours ago</a></span> <span id=\"unv_25679388\"></span> | <a href=\"hide?id=25679388&amp;goto=news\">hide</a> | <a href=\"item?id=25679388\">113&nbsp;comments</a>              </td></tr>\\n      <tr class=\"spacer\" style=\"height:5px\"></tr>\\n                <tr class=\\'athing\\' id=\\'25676660\\'>\\n      <td align=\"right\" valign=\"top\" class=\"title\"><span class=\"rank\">15.</span></td>      <td valign=\"top\" class=\"votelinks\"><center><a id=\\'up_25676660\\' href=\\'vote?id=25676660&amp;how=up&amp;goto=news\\'><div class=\\'votearrow\\' title=\\'upvote\\'></div></a></center></td><td class=\"title\"><a href=\"http://jamie-wong.com/2014/08/19/metaballs-and-marching-squares/\" class=\"storylink\">Metaballs and Marching Squares</a><span class=\"sitebit comhead\"> (<a href=\"from?site=jamie-wong.com\"><span class=\"sitestr\">jamie-wong.com</span></a>)</span></td></tr><tr><td colspan=\"2\"></td><td class=\"subtext\">\\n        <span class=\"score\" id=\"score_25676660\">73 points</span> by <a href=\"user?id=bobbiechen\" class=\"hnuser\">bobbiechen</a> <span class=\"age\"><a href=\"item?id=25676660\">9 hours ago</a></span> <span id=\"unv_25676660\"></span> | <a href=\"hide?id=25676660&amp;goto=news\">hide</a> | <a href=\"item?id=25676660\">21&nbsp;comments</a>              </td></tr>\\n      <tr class=\"spacer\" style=\"height:5px\"></tr>\\n                <tr class=\\'athing\\' id=\\'25673951\\'>\\n      <td align=\"right\" valign=\"top\" class=\"title\"><span class=\"rank\">16.</span></td>      <td valign=\"top\" class=\"votelinks\"><center><a id=\\'up_25673951\\' href=\\'vote?id=25673951&amp;how=up&amp;goto=news\\'><div class=\\'votearrow\\' title=\\'upvote\\'></div></a></center></td><td class=\"title\"><a href=\"https://www.newyorker.com/culture/culture-desk/a-new-history-of-arabia-written-in-stone/\" class=\"storylink\">A New History of Arabia, Written in Stone (2018)</a><span class=\"sitebit comhead\"> (<a href=\"from?site=newyorker.com\"><span class=\"sitestr\">newyorker.com</span></a>)</span></td></tr><tr><td colspan=\"2\"></td><td class=\"subtext\">\\n        <span class=\"score\" id=\"score_25673951\">29 points</span> by <a href=\"user?id=Tomte\" class=\"hnuser\">Tomte</a> <span class=\"age\"><a href=\"item?id=25673951\">7 hours ago</a></span> <span id=\"unv_25673951\"></span> | <a href=\"hide?id=25673951&amp;goto=news\">hide</a> | <a href=\"item?id=25673951\">5&nbsp;comments</a>              </td></tr>\\n      <tr class=\"spacer\" style=\"height:5px\"></tr>\\n                <tr class=\\'athing\\' id=\\'25664867\\'>\\n      <td align=\"right\" valign=\"top\" class=\"title\"><span class=\"rank\">17.</span></td>      <td valign=\"top\" class=\"votelinks\"><center><a id=\\'up_25664867\\' href=\\'vote?id=25664867&amp;how=up&amp;goto=news\\'><div class=\\'votearrow\\' title=\\'upvote\\'></div></a></center></td><td class=\"title\"><a href=\"https://psyche.co/ideas/loves-contradictions-catullus-on-the-agony-of-infatuation\" class=\"storylink\">Love’s contradictions: Catullus on the agony of infatuation</a><span class=\"sitebit comhead\"> (<a href=\"from?site=psyche.co\"><span class=\"sitestr\">psyche.co</span></a>)</span></td></tr><tr><td colspan=\"2\"></td><td class=\"subtext\">\\n        <span class=\"score\" id=\"score_25664867\">68 points</span> by <a href=\"user?id=diodorus\" class=\"hnuser\">diodorus</a> <span class=\"age\"><a href=\"item?id=25664867\">11 hours ago</a></span> <span id=\"unv_25664867\"></span> | <a href=\"hide?id=25664867&amp;goto=news\">hide</a> | <a href=\"item?id=25664867\">14&nbsp;comments</a>              </td></tr>\\n      <tr class=\"spacer\" style=\"height:5px\"></tr>\\n                <tr class=\\'athing\\' id=\\'25683151\\'>\\n      <td align=\"right\" valign=\"top\" class=\"title\"><span class=\"rank\">18.</span></td>      <td valign=\"top\" class=\"votelinks\"><center><a id=\\'up_25683151\\' href=\\'vote?id=25683151&amp;how=up&amp;goto=news\\'><div class=\\'votearrow\\' title=\\'upvote\\'></div></a></center></td><td class=\"title\"><a href=\"https://hackaday.com/2021/01/08/the-amiga-1000-still-receiving-new-peripherals-35-years-later/\" class=\"storylink\">The Amiga 1000, Still Receiving New Peripherals 35 Years Later</a><span class=\"sitebit comhead\"> (<a href=\"from?site=hackaday.com\"><span class=\"sitestr\">hackaday.com</span></a>)</span></td></tr><tr><td colspan=\"2\"></td><td class=\"subtext\">\\n        <span class=\"score\" id=\"score_25683151\">46 points</span> by <a href=\"user?id=sohkamyung\" class=\"hnuser\">sohkamyung</a> <span class=\"age\"><a href=\"item?id=25683151\">4 hours ago</a></span> <span id=\"unv_25683151\"></span> | <a href=\"hide?id=25683151&amp;goto=news\">hide</a> | <a href=\"item?id=25683151\">31&nbsp;comments</a>              </td></tr>\\n      <tr class=\"spacer\" style=\"height:5px\"></tr>\\n                <tr class=\\'athing\\' id=\\'25677144\\'>\\n      <td align=\"right\" valign=\"top\" class=\"title\"><span class=\"rank\">19.</span></td>      <td valign=\"top\" class=\"votelinks\"><center><a id=\\'up_25677144\\' href=\\'vote?id=25677144&amp;how=up&amp;goto=news\\'><div class=\\'votearrow\\' title=\\'upvote\\'></div></a></center></td><td class=\"title\"><a href=\"https://www.bbc.com/reel/video/p0931jtk/the-nuclear-lighthouses-built-by-the-soviets-in-the-arctic\" class=\"storylink\">Nuclear lighthouses built by the Soviets in the Arctic [video]</a><span class=\"sitebit comhead\"> (<a href=\"from?site=bbc.com\"><span class=\"sitestr\">bbc.com</span></a>)</span></td></tr><tr><td colspan=\"2\"></td><td class=\"subtext\">\\n        <span class=\"score\" id=\"score_25677144\">423 points</span> by <a href=\"user?id=etimberg\" class=\"hnuser\">etimberg</a> <span class=\"age\"><a href=\"item?id=25677144\">17 hours ago</a></span> <span id=\"unv_25677144\"></span> | <a href=\"hide?id=25677144&amp;goto=news\">hide</a> | <a href=\"item?id=25677144\">226&nbsp;comments</a>              </td></tr>\\n      <tr class=\"spacer\" style=\"height:5px\"></tr>\\n                <tr class=\\'athing\\' id=\\'25679474\\'>\\n      <td align=\"right\" valign=\"top\" class=\"title\"><span class=\"rank\">20.</span></td>      <td valign=\"top\" class=\"votelinks\"><center><a id=\\'up_25679474\\' href=\\'vote?id=25679474&amp;how=up&amp;goto=news\\'><div class=\\'votearrow\\' title=\\'upvote\\'></div></a></center></td><td class=\"title\"><a href=\"https://www.strongtowns.org/journal/2021/1/6/college-campuses-as-a-model-for-urban-planning\" class=\"storylink\">College campuses are designed at human-scale – cities can be too</a><span class=\"sitebit comhead\"> (<a href=\"from?site=strongtowns.org\"><span class=\"sitestr\">strongtowns.org</span></a>)</span></td></tr><tr><td colspan=\"2\"></td><td class=\"subtext\">\\n        <span class=\"score\" id=\"score_25679474\">218 points</span> by <a href=\"user?id=jseliger\" class=\"hnuser\">jseliger</a> <span class=\"age\"><a href=\"item?id=25679474\">14 hours ago</a></span> <span id=\"unv_25679474\"></span> | <a href=\"hide?id=25679474&amp;goto=news\">hide</a> | <a href=\"item?id=25679474\">98&nbsp;comments</a>              </td></tr>\\n      <tr class=\"spacer\" style=\"height:5px\"></tr>\\n                <tr class=\\'athing\\' id=\\'25683402\\'>\\n      <td align=\"right\" valign=\"top\" class=\"title\"><span class=\"rank\">21.</span></td>      <td valign=\"top\" class=\"votelinks\"><center><a id=\\'up_25683402\\' href=\\'vote?id=25683402&amp;how=up&amp;goto=news\\'><div class=\\'votearrow\\' title=\\'upvote\\'></div></a></center></td><td class=\"title\"><a href=\"https://en.wikipedia.org/wiki/Wikipedia:Reliable_sources/Perennial_sources\" class=\"storylink\">Wikipedia frequently-encountered sources, color-coded by perceived reliability</a><span class=\"sitebit comhead\"> (<a href=\"from?site=wikipedia.org\"><span class=\"sitestr\">wikipedia.org</span></a>)</span></td></tr><tr><td colspan=\"2\"></td><td class=\"subtext\">\\n        <span class=\"score\" id=\"score_25683402\">42 points</span> by <a href=\"user?id=ColinWright\" class=\"hnuser\">ColinWright</a> <span class=\"age\"><a href=\"item?id=25683402\">3 hours ago</a></span> <span id=\"unv_25683402\"></span> | <a href=\"hide?id=25683402&amp;goto=news\">hide</a> | <a href=\"item?id=25683402\">18&nbsp;comments</a>              </td></tr>\\n      <tr class=\"spacer\" style=\"height:5px\"></tr>\\n                <tr class=\\'athing\\' id=\\'25673631\\'>\\n      <td align=\"right\" valign=\"top\" class=\"title\"><span class=\"rank\">22.</span></td>      <td valign=\"top\" class=\"votelinks\"><center><a id=\\'up_25673631\\' href=\\'vote?id=25673631&amp;how=up&amp;goto=news\\'><div class=\\'votearrow\\' title=\\'upvote\\'></div></a></center></td><td class=\"title\"><a href=\"https://rosenzweig.io/blog/asahi-gpu-part-1.html\" class=\"storylink\">Dissecting the Apple M1 GPU, part I</a><span class=\"sitebit comhead\"> (<a href=\"from?site=rosenzweig.io\"><span class=\"sitestr\">rosenzweig.io</span></a>)</span></td></tr><tr><td colspan=\"2\"></td><td class=\"subtext\">\\n        <span class=\"score\" id=\"score_25673631\">507 points</span> by <a href=\"user?id=caution\" class=\"hnuser\">caution</a> <span class=\"age\"><a href=\"item?id=25673631\">21 hours ago</a></span> <span id=\"unv_25673631\"></span> | <a href=\"hide?id=25673631&amp;goto=news\">hide</a> | <a href=\"item?id=25673631\">118&nbsp;comments</a>              </td></tr>\\n      <tr class=\"spacer\" style=\"height:5px\"></tr>\\n                <tr class=\\'athing\\' id=\\'25674964\\'>\\n      <td align=\"right\" valign=\"top\" class=\"title\"><span class=\"rank\">23.</span></td>      <td valign=\"top\" class=\"votelinks\"><center><a id=\\'up_25674964\\' href=\\'vote?id=25674964&amp;how=up&amp;goto=news\\'><div class=\\'votearrow\\' title=\\'upvote\\'></div></a></center></td><td class=\"title\"><a href=\"https://www.oregonlive.com/silicon-forest/2021/01/simple-portland-online-banker-is-shutting-down.html\" class=\"storylink\">Simple Bank Is Closing</a><span class=\"sitebit comhead\"> (<a href=\"from?site=oregonlive.com\"><span class=\"sitestr\">oregonlive.com</span></a>)</span></td></tr><tr><td colspan=\"2\"></td><td class=\"subtext\">\\n        <span class=\"score\" id=\"score_25674964\">461 points</span> by <a href=\"user?id=roberto8647\" class=\"hnuser\">roberto8647</a> <span class=\"age\"><a href=\"item?id=25674964\">19 hours ago</a></span> <span id=\"unv_25674964\"></span> | <a href=\"hide?id=25674964&amp;goto=news\">hide</a> | <a href=\"item?id=25674964\">514&nbsp;comments</a>              </td></tr>\\n      <tr class=\"spacer\" style=\"height:5px\"></tr>\\n                <tr class=\\'athing\\' id=\\'25654955\\'>\\n      <td align=\"right\" valign=\"top\" class=\"title\"><span class=\"rank\">24.</span></td>      <td valign=\"top\" class=\"votelinks\"><center><a id=\\'up_25654955\\' href=\\'vote?id=25654955&amp;how=up&amp;goto=news\\'><div class=\\'votearrow\\' title=\\'upvote\\'></div></a></center></td><td class=\"title\"><a href=\"https://github.com/norvig/pytudes/blob/master/ipynb/Advent-2020.ipynb\" class=\"storylink\">Peter Norvig\\'s “pytudes” for Advent of Code 2020</a><span class=\"sitebit comhead\"> (<a href=\"from?site=github.com/norvig\"><span class=\"sitestr\">github.com/norvig</span></a>)</span></td></tr><tr><td colspan=\"2\"></td><td class=\"subtext\">\\n        <span class=\"score\" id=\"score_25654955\">265 points</span> by <a href=\"user?id=ff7f00\" class=\"hnuser\">ff7f00</a> <span class=\"age\"><a href=\"item?id=25654955\">15 hours ago</a></span> <span id=\"unv_25654955\"></span> | <a href=\"hide?id=25654955&amp;goto=news\">hide</a> | <a href=\"item?id=25654955\">71&nbsp;comments</a>              </td></tr>\\n      <tr class=\"spacer\" style=\"height:5px\"></tr>\\n                <tr class=\\'athing\\' id=\\'25677272\\'>\\n      <td align=\"right\" valign=\"top\" class=\"title\"><span class=\"rank\">25.</span></td>      <td valign=\"top\" class=\"votelinks\"><center><a id=\\'up_25677272\\' href=\\'vote?id=25677272&amp;how=up&amp;goto=news\\'><div class=\\'votearrow\\' title=\\'upvote\\'></div></a></center></td><td class=\"title\"><a href=\"https://synergyjs.org\" class=\"storylink\">Show HN: I built a 4kb alternative to React, Vue, etc for building web UIs.</a><span class=\"sitebit comhead\"> (<a href=\"from?site=synergyjs.org\"><span class=\"sitestr\">synergyjs.org</span></a>)</span></td></tr><tr><td colspan=\"2\"></td><td class=\"subtext\">\\n        <span class=\"score\" id=\"score_25677272\">299 points</span> by <a href=\"user?id=defx\" class=\"hnuser\">defx</a> <span class=\"age\"><a href=\"item?id=25677272\">17 hours ago</a></span> <span id=\"unv_25677272\"></span> | <a href=\"hide?id=25677272&amp;goto=news\">hide</a> | <a href=\"item?id=25677272\">123&nbsp;comments</a>              </td></tr>\\n      <tr class=\"spacer\" style=\"height:5px\"></tr>\\n                <tr class=\\'athing\\' id=\\'25682359\\'>\\n      <td align=\"right\" valign=\"top\" class=\"title\"><span class=\"rank\">26.</span></td>      <td valign=\"top\" class=\"votelinks\"><center><a id=\\'up_25682359\\' href=\\'vote?id=25682359&amp;how=up&amp;goto=news\\'><div class=\\'votearrow\\' title=\\'upvote\\'></div></a></center></td><td class=\"title\"><a href=\"https://acoup.blog/2021/01/08/collections-that-dothraki-horde-part-iv-screamers-and-howlers/\" class=\"storylink\">Collections: That Dothraki Horde, Part IV: Screamers and Howlers</a><span class=\"sitebit comhead\"> (<a href=\"from?site=acoup.blog\"><span class=\"sitestr\">acoup.blog</span></a>)</span></td></tr><tr><td colspan=\"2\"></td><td class=\"subtext\">\\n        <span class=\"score\" id=\"score_25682359\">12 points</span> by <a href=\"user?id=Illniyar\" class=\"hnuser\">Illniyar</a> <span class=\"age\"><a href=\"item?id=25682359\">6 hours ago</a></span> <span id=\"unv_25682359\"></span> | <a href=\"hide?id=25682359&amp;goto=news\">hide</a> | <a href=\"item?id=25682359\">4&nbsp;comments</a>              </td></tr>\\n      <tr class=\"spacer\" style=\"height:5px\"></tr>\\n                <tr class=\\'athing\\' id=\\'25673275\\'>\\n      <td align=\"right\" valign=\"top\" class=\"title\"><span class=\"rank\">27.</span></td>      <td valign=\"top\" class=\"votelinks\"><center><a id=\\'up_25673275\\' href=\\'vote?id=25673275&amp;how=up&amp;goto=news\\'><div class=\\'votearrow\\' title=\\'upvote\\'></div></a></center></td><td class=\"title\"><a href=\"https://sahillavingia.com/work\" class=\"storylink\">No meetings, no deadlines, no full-time employees</a><span class=\"sitebit comhead\"> (<a href=\"from?site=sahillavingia.com\"><span class=\"sitestr\">sahillavingia.com</span></a>)</span></td></tr><tr><td colspan=\"2\"></td><td class=\"subtext\">\\n        <span class=\"score\" id=\"score_25673275\">1204 points</span> by <a href=\"user?id=sahillavingia\" class=\"hnuser\">sahillavingia</a> <span class=\"age\"><a href=\"item?id=25673275\">21 hours ago</a></span> <span id=\"unv_25673275\"></span> | <a href=\"hide?id=25673275&amp;goto=news\">hide</a> | <a href=\"item?id=25673275\">424&nbsp;comments</a>              </td></tr>\\n      <tr class=\"spacer\" style=\"height:5px\"></tr>\\n                <tr class=\\'athing\\' id=\\'25680125\\'>\\n      <td align=\"right\" valign=\"top\" class=\"title\"><span class=\"rank\">28.</span></td>      <td valign=\"top\" class=\"votelinks\"><center><a id=\\'up_25680125\\' href=\\'vote?id=25680125&amp;how=up&amp;goto=news\\'><div class=\\'votearrow\\' title=\\'upvote\\'></div></a></center></td><td class=\"title\"><a href=\"https://paweldziepak.dev/2019/06/21/avoiding-icache-misses/\" class=\"storylink\">Avoiding instruction cache misses (2019)</a><span class=\"sitebit comhead\"> (<a href=\"from?site=paweldziepak.dev\"><span class=\"sitestr\">paweldziepak.dev</span></a>)</span></td></tr><tr><td colspan=\"2\"></td><td class=\"subtext\">\\n        <span class=\"score\" id=\"score_25680125\">58 points</span> by <a href=\"user?id=nkurz\" class=\"hnuser\">nkurz</a> <span class=\"age\"><a href=\"item?id=25680125\">12 hours ago</a></span> <span id=\"unv_25680125\"></span> | <a href=\"hide?id=25680125&amp;goto=news\">hide</a> | <a href=\"item?id=25680125\">12&nbsp;comments</a>              </td></tr>\\n      <tr class=\"spacer\" style=\"height:5px\"></tr>\\n                <tr class=\\'athing\\' id=\\'25675249\\'>\\n      <td align=\"right\" valign=\"top\" class=\"title\"><span class=\"rank\">29.</span></td>      <td valign=\"top\" class=\"votelinks\"><center><a id=\\'up_25675249\\' href=\\'vote?id=25675249&amp;how=up&amp;goto=news\\'><div class=\\'votearrow\\' title=\\'upvote\\'></div></a></center></td><td class=\"title\"><a href=\"https://www.epicgames.com/site/en-US/news/epic-acquires-rad-game-tools\" class=\"storylink\">Epic acquires RAD Game Tools</a><span class=\"sitebit comhead\"> (<a href=\"from?site=epicgames.com\"><span class=\"sitestr\">epicgames.com</span></a>)</span></td></tr><tr><td colspan=\"2\"></td><td class=\"subtext\">\\n        <span class=\"score\" id=\"score_25675249\">249 points</span> by <a href=\"user?id=jsheard\" class=\"hnuser\">jsheard</a> <span class=\"age\"><a href=\"item?id=25675249\">19 hours ago</a></span> <span id=\"unv_25675249\"></span> | <a href=\"hide?id=25675249&amp;goto=news\">hide</a> | <a href=\"item?id=25675249\">168&nbsp;comments</a>              </td></tr>\\n      <tr class=\"spacer\" style=\"height:5px\"></tr>\\n                <tr class=\\'athing\\' id=\\'25675556\\'>\\n      <td align=\"right\" valign=\"top\" class=\"title\"><span class=\"rank\">30.</span></td>      <td valign=\"top\" class=\"votelinks\"><center><a id=\\'up_25675556\\' href=\\'vote?id=25675556&amp;how=up&amp;goto=news\\'><div class=\\'votearrow\\' title=\\'upvote\\'></div></a></center></td><td class=\"title\"><a href=\"https://ninjalab.io/a-side-journey-to-titan/\" class=\"storylink\">CVE-2021-3011: Key recovery on Google Titan Key</a><span class=\"sitebit comhead\"> (<a href=\"from?site=ninjalab.io\"><span class=\"sitestr\">ninjalab.io</span></a>)</span></td></tr><tr><td colspan=\"2\"></td><td class=\"subtext\">\\n        <span class=\"score\" id=\"score_25675556\">228 points</span> by <a href=\"user?id=hexa-\" class=\"hnuser\">hexa-</a> <span class=\"age\"><a href=\"item?id=25675556\">19 hours ago</a></span> <span id=\"unv_25675556\"></span> | <a href=\"hide?id=25675556&amp;goto=news\">hide</a> | <a href=\"item?id=25675556\">74&nbsp;comments</a>              </td></tr>\\n      <tr class=\"spacer\" style=\"height:5px\"></tr>\\n            <tr class=\"morespace\" style=\"height:10px\"></tr><tr><td colspan=\"2\"></td><td class=\"title\"><a href=\"news?p=2\" class=\"morelink\" rel=\"next\">More</a></td></tr>\\n  </table>\\n</td></tr>\\n<tr><td><img src=\"s.gif\" height=\"10\" width=\"0\"><table width=\"100%\" cellspacing=\"0\" cellpadding=\"1\"><tr><td bgcolor=\"#ff6600\"></td></tr></table><br><center><span class=\"yclinks\"><a href=\"newsguidelines.html\">Guidelines</a>\\n        | <a href=\"newsfaq.html\">FAQ</a>\\n        | <a href=\"lists\">Lists</a>\\n        | <a href=\"https://github.com/HackerNews/API\">API</a>\\n        | <a href=\"security.html\">Security</a>\\n        | <a href=\"http://www.ycombinator.com/legal/\">Legal</a>\\n        | <a href=\"http://www.ycombinator.com/apply/\">Apply to YC</a>\\n        | <a href=\"mailto:hn@ycombinator.com\">Contact</a></span><br><br><form method=\"get\" action=\"//hn.algolia.com/\">Search:\\n          <input type=\"text\" name=\"q\" value=\"\" size=\"17\" autocorrect=\"off\" spellcheck=\"false\" autocapitalize=\"off\" autocomplete=\"false\"></form>\\n            </center></td></tr>\\n      </table></center></body><script type=\\'text/javascript\\' src=\\'hn.js?EQXjG1GP6UjWmk89gzq4\\'></script></html>\\n'"
      ]
     },
     "metadata": {},
     "execution_count": 65
    }
   ]
  },
  {
   "source": [
    "soup=BeautifulSoup(respone.text,'lxml')\n",
    "soup"
   ],
   "cell_type": "code",
   "metadata": {},
   "execution_count": 66,
   "outputs": [
    {
     "output_type": "execute_result",
     "data": {
      "text/plain": [
       "w=up&amp;goto=news\" id=\"up_25682785\"><div class=\"votearrow\" title=\"upvote\"></div></a></center></td><td class=\"title\"><a class=\"storylink\" href=\"https://twitter.com/marcan42/status/1347403996332376065\">Texas Instruments sent a DMCA takedown to a site archiving data sheets</a><span class=\"sitebit comhead\"> (<a href=\"from?site=twitter.com/marcan42\"><span class=\"sitestr\">twitter.com/marcan42</span></a>)</span></td></tr><tr><td colspan=\"2\"></td><td class=\"subtext\">\n",
       "<span class=\"score\" id=\"score_25682785\">193 points</span> by <a class=\"hnuser\" href=\"user?id=DyslexicAtheist\">DyslexicAtheist</a> <span class=\"age\"><a href=\"item?id=25682785\">5 hours ago</a></span> <span id=\"unv_25682785\"></span> | <a href=\"hide?id=25682785&amp;goto=news\">hide</a> | <a href=\"item?id=25682785\">58 comments</a> </td></tr>\n",
       "<tr class=\"spacer\" style=\"height:5px\"></tr>\n",
       "<tr class=\"athing\" id=\"25683158\">\n",
       "<td align=\"right\" class=\"title\" valign=\"top\"><span class=\"rank\">13.</span></td> <td class=\"votelinks\" valign=\"top\"><center><a href=\"vote?id=25683158&amp;how=up&amp;goto=news\" id=\"up_25683158\"><div class=\"votearrow\" title=\"upvote\"></div></a></center></td><td class=\"title\"><a class=\"storylink\" href=\"https://lwn.net/SubscriberLink/841916/3214238251863f9d/\">Restricted DMA</a><span class=\"sitebit comhead\"> (<a href=\"from?site=lwn.net\"><span class=\"sitestr\">lwn.net</span></a>)</span></td></tr><tr><td colspan=\"2\"></td><td class=\"subtext\">\n",
       "<span class=\"score\" id=\"score_25683158\">16 points</span> by <a class=\"hnuser\" href=\"user?id=Tomte\">Tomte</a> <span class=\"age\"><a href=\"item?id=25683158\">4 hours ago</a></span> <span id=\"unv_25683158\"></span> | <a href=\"hide?id=25683158&amp;goto=news\">hide</a> | <a href=\"item?id=25683158\">1 comment</a> </td></tr>\n",
       "<tr class=\"spacer\" style=\"height:5px\"></tr>\n",
       "<tr class=\"athing\" id=\"25679388\">\n",
       "<td align=\"right\" class=\"title\" valign=\"top\"><span class=\"rank\">14.</span></td> <td class=\"votelinks\" valign=\"top\"><center><a href=\"vote?id=25679388&amp;how=up&amp;goto=news\" id=\"up_25679388\"><div class=\"votearrow\" title=\"upvote\"></div></a></center></td><td class=\"title\"><a class=\"storylink\" href=\"https://krebsonsecurity.com/2021/01/sealed-u-s-court-records-exposed-in-solarwinds-breach/\">Sealed U.S. Court Records Exposed in SolarWinds Breach</a><span class=\"sitebit comhead\"> (<a href=\"from?site=krebsonsecurity.com\"><span class=\"sitestr\">krebsonsecurity.com</span></a>)</span></td></tr><tr><td colspan=\"2\"></td><td class=\"subtext\">\n",
       "<span class=\"score\" id=\"score_25679388\">353 points</span> by <a class=\"hnuser\" href=\"user?id=parsecs\">parsecs</a> <span class=\"age\"><a href=\"item?id=25679388\">14 hours ago</a></span> <span id=\"unv_25679388\"></span> | <a href=\"hide?id=25679388&amp;goto=news\">hide</a> | <a href=\"item?id=25679388\">113 comments</a> </td></tr>\n",
       "<tr class=\"spacer\" style=\"height:5px\"></tr>\n",
       "<tr class=\"athing\" id=\"25676660\">\n",
       "<td align=\"right\" class=\"title\" valign=\"top\"><span class=\"rank\">15.</span></td> <td class=\"votelinks\" valign=\"top\"><center><a href=\"vote?id=25676660&amp;how=up&amp;goto=news\" id=\"up_25676660\"><div class=\"votearrow\" title=\"upvote\"></div></a></center></td><td class=\"title\"><a class=\"storylink\" href=\"http://jamie-wong.com/2014/08/19/metaballs-and-marching-squares/\">Metaballs and Marching Squares</a><span class=\"sitebit comhead\"> (<a href=\"from?site=jamie-wong.com\"><span class=\"sitestr\">jamie-wong.com</span></a>)</span></td></tr><tr><td colspan=\"2\"></td><td class=\"subtext\">\n",
       "<span class=\"score\" id=\"score_25676660\">73 points</span> by <a class=\"hnuser\" href=\"user?id=bobbiechen\">bobbiechen</a> <span class=\"age\"><a href=\"item?id=25676660\">9 hours ago</a></span> <span id=\"unv_25676660\"></span> | <a href=\"hide?id=25676660&amp;goto=news\">hide</a> | <a href=\"item?id=25676660\">21 comments</a> </td></tr>\n",
       "<tr class=\"spacer\" style=\"height:5px\"></tr>\n",
       "<tr class=\"athing\" id=\"25673951\">\n",
       "<td align=\"right\" class=\"title\" valign=\"top\"><span class=\"rank\">16.</span></td> <td class=\"votelinks\" valign=\"top\"><center><a href=\"vote?id=25673951&amp;how=up&amp;goto=news\" id=\"up_25673951\"><div class=\"votearrow\" title=\"upvote\"></div></a></center></td><td class=\"title\"><a class=\"storylink\" href=\"https://www.newyorker.com/culture/culture-desk/a-new-history-of-arabia-written-in-stone/\">A New History of Arabia, Written in Stone (2018)</a><span class=\"sitebit comhead\"> (<a href=\"from?site=newyorker.com\"><span class=\"sitestr\">newyorker.com</span></a>)</span></td></tr><tr><td colspan=\"2\"></td><td class=\"subtext\">\n",
       "<span class=\"score\" id=\"score_25673951\">29 points</span> by <a class=\"hnuser\" href=\"user?id=Tomte\">Tomte</a> <span class=\"age\"><a href=\"item?id=25673951\">7 hours ago</a></span> <span id=\"unv_25673951\"></span> | <a href=\"hide?id=25673951&amp;goto=news\">hide</a> | <a href=\"item?id=25673951\">5 comments</a> </td></tr>\n",
       "<tr class=\"spacer\" style=\"height:5px\"></tr>\n",
       "<tr class=\"athing\" id=\"25664867\">\n",
       "<td align=\"right\" class=\"title\" valign=\"top\"><span class=\"rank\">17.</span></td> <td class=\"votelinks\" valign=\"top\"><center><a href=\"vote?id=25664867&amp;how=up&amp;goto=news\" id=\"up_25664867\"><div class=\"votearrow\" title=\"upvote\"></div></a></center></td><td class=\"title\"><a class=\"storylink\" href=\"https://psyche.co/ideas/loves-contradictions-catullus-on-the-agony-of-infatuation\">Love’s contradictions: Catullus on the agony of infatuation</a><span class=\"sitebit comhead\"> (<a href=\"from?site=psyche.co\"><span class=\"sitestr\">psyche.co</span></a>)</span></td></tr><tr><td colspan=\"2\"></td><td class=\"subtext\">\n",
       "<span class=\"score\" id=\"score_25664867\">68 points</span> by <a class=\"hnuser\" href=\"user?id=diodorus\">diodorus</a> <span class=\"age\"><a href=\"item?id=25664867\">11 hours ago</a></span> <span id=\"unv_25664867\"></span> | <a href=\"hide?id=25664867&amp;goto=news\">hide</a> | <a href=\"item?id=25664867\">14 comments</a> </td></tr>\n",
       "<tr class=\"spacer\" style=\"height:5px\"></tr>\n",
       "<tr class=\"athing\" id=\"25683151\">\n",
       "<td align=\"right\" class=\"title\" valign=\"top\"><span class=\"rank\">18.</span></td> <td class=\"votelinks\" valign=\"top\"><center><a href=\"vote?id=25683151&amp;how=up&amp;goto=news\" id=\"up_25683151\"><div class=\"votearrow\" title=\"upvote\"></div></a></center></td><td class=\"title\"><a class=\"storylink\" href=\"https://hackaday.com/2021/01/08/the-amiga-1000-still-receiving-new-peripherals-35-years-later/\">The Amiga 1000, Still Receiving New Peripherals 35 Years Later</a><span class=\"sitebit comhead\"> (<a href=\"from?site=hackaday.com\"><span class=\"sitestr\">hackaday.com</span></a>)</span></td></tr><tr><td colspan=\"2\"></td><td class=\"subtext\">\n",
       "<span class=\"score\" id=\"score_25683151\">46 points</span> by <a class=\"hnuser\" href=\"user?id=sohkamyung\">sohkamyung</a> <span class=\"age\"><a href=\"item?id=25683151\">4 hours ago</a></span> <span id=\"unv_25683151\"></span> | <a href=\"hide?id=25683151&amp;goto=news\">hide</a> | <a href=\"item?id=25683151\">31 comments</a> </td></tr>\n",
       "<tr class=\"spacer\" style=\"height:5px\"></tr>\n",
       "<tr class=\"athing\" id=\"25677144\">\n",
       "<td align=\"right\" class=\"title\" valign=\"top\"><span class=\"rank\">19.</span></td> <td class=\"votelinks\" valign=\"top\"><center><a href=\"vote?id=25677144&amp;how=up&amp;goto=news\" id=\"up_25677144\"><div class=\"votearrow\" title=\"upvote\"></div></a></center></td><td class=\"title\"><a class=\"storylink\" href=\"https://www.bbc.com/reel/video/p0931jtk/the-nuclear-lighthouses-built-by-the-soviets-in-the-arctic\">Nuclear lighthouses built by the Soviets in the Arctic [video]</a><span class=\"sitebit comhead\"> (<a href=\"from?site=bbc.com\"><span class=\"sitestr\">bbc.com</span></a>)</span></td></tr><tr><td colspan=\"2\"></td><td class=\"subtext\">\n",
       "<span class=\"score\" id=\"score_25677144\">423 points</span> by <a class=\"hnuser\" href=\"user?id=etimberg\">etimberg</a> <span class=\"age\"><a href=\"item?id=25677144\">17 hours ago</a></span> <span id=\"unv_25677144\"></span> | <a href=\"hide?id=25677144&amp;goto=news\">hide</a> | <a href=\"item?id=25677144\">226 comments</a> </td></tr>\n",
       "<tr class=\"spacer\" style=\"height:5px\"></tr>\n",
       "<tr class=\"athing\" id=\"25679474\">\n",
       "<td align=\"right\" class=\"title\" valign=\"top\"><span class=\"rank\">20.</span></td> <td class=\"votelinks\" valign=\"top\"><center><a href=\"vote?id=25679474&amp;how=up&amp;goto=news\" id=\"up_25679474\"><div class=\"votearrow\" title=\"upvote\"></div></a></center></td><td class=\"title\"><a class=\"storylink\" href=\"https://www.strongtowns.org/journal/2021/1/6/college-campuses-as-a-model-for-urban-planning\">College campuses are designed at human-scale – cities can be too</a><span class=\"sitebit comhead\"> (<a href=\"from?site=strongtowns.org\"><span class=\"sitestr\">strongtowns.org</span></a>)</span></td></tr><tr><td colspan=\"2\"></td><td class=\"subtext\">\n",
       "<span class=\"score\" id=\"score_25679474\">218 points</span> by <a class=\"hnuser\" href=\"user?id=jseliger\">jseliger</a> <span class=\"age\"><a href=\"item?id=25679474\">14 hours ago</a></span> <span id=\"unv_25679474\"></span> | <a href=\"hide?id=25679474&amp;goto=news\">hide</a> | <a href=\"item?id=25679474\">98 comments</a> </td></tr>\n",
       "<tr class=\"spacer\" style=\"height:5px\"></tr>\n",
       "<tr class=\"athing\" id=\"25683402\">\n",
       "<td align=\"right\" class=\"title\" valign=\"top\"><span class=\"rank\">21.</span></td> <td class=\"votelinks\" valign=\"top\"><center><a href=\"vote?id=25683402&amp;how=up&amp;goto=news\" id=\"up_25683402\"><div class=\"votearrow\" title=\"upvote\"></div></a></center></td><td class=\"title\"><a class=\"storylink\" href=\"https://en.wikipedia.org/wiki/Wikipedia:Reliable_sources/Perennial_sources\">Wikipedia frequently-encountered sources, color-coded by perceived reliability</a><span class=\"sitebit comhead\"> (<a href=\"from?site=wikipedia.org\"><span class=\"sitestr\">wikipedia.org</span></a>)</span></td></tr><tr><td colspan=\"2\"></td><td class=\"subtext\">\n",
       "<span class=\"score\" id=\"score_25683402\">42 points</span> by <a class=\"hnuser\" href=\"user?id=ColinWright\">ColinWright</a> <span class=\"age\"><a href=\"item?id=25683402\">3 hours ago</a></span> <span id=\"unv_25683402\"></span> | <a href=\"hide?id=25683402&amp;goto=news\">hide</a> | <a href=\"item?id=25683402\">18 comments</a> </td></tr>\n",
       "<tr class=\"spacer\" style=\"height:5px\"></tr>\n",
       "<tr class=\"athing\" id=\"25673631\">\n",
       "<td align=\"right\" class=\"title\" valign=\"top\"><span class=\"rank\">22.</span></td> <td class=\"votelinks\" valign=\"top\"><center><a href=\"vote?id=25673631&amp;how=up&amp;goto=news\" id=\"up_25673631\"><div class=\"votearrow\" title=\"upvote\"></div></a></center></td><td class=\"title\"><a class=\"storylink\" href=\"https://rosenzweig.io/blog/asahi-gpu-part-1.html\">Dissecting the Apple M1 GPU, part I</a><span class=\"sitebit comhead\"> (<a href=\"from?site=rosenzweig.io\"><span class=\"sitestr\">rosenzweig.io</span></a>)</span></td></tr><tr><td colspan=\"2\"></td><td class=\"subtext\">\n",
       "<span class=\"score\" id=\"score_25673631\">507 points</span> by <a class=\"hnuser\" href=\"user?id=caution\">caution</a> <span class=\"age\"><a href=\"item?id=25673631\">21 hours ago</a></span> <span id=\"unv_25673631\"></span> | <a href=\"hide?id=25673631&amp;goto=news\">hide</a> | <a href=\"item?id=25673631\">118 comments</a> </td></tr>\n",
       "<tr class=\"spacer\" style=\"height:5px\"></tr>\n",
       "<tr class=\"athing\" id=\"25674964\">\n",
       "<td align=\"right\" class=\"title\" valign=\"top\"><span class=\"rank\">23.</span></td> <td class=\"votelinks\" valign=\"top\"><center><a href=\"vote?id=25674964&amp;how=up&amp;goto=news\" id=\"up_25674964\"><div class=\"votearrow\" title=\"upvote\"></div></a></center></td><td class=\"title\"><a class=\"storylink\" href=\"https://www.oregonlive.com/silicon-forest/2021/01/simple-portland-online-banker-is-shutting-down.html\">Simple Bank Is Closing</a><span class=\"sitebit comhead\"> (<a href=\"from?site=oregonlive.com\"><span class=\"sitestr\">oregonlive.com</span></a>)</span></td></tr><tr><td colspan=\"2\"></td><td class=\"subtext\">\n",
       "<span class=\"score\" id=\"score_25674964\">461 points</span> by <a class=\"hnuser\" href=\"user?id=roberto8647\">roberto8647</a> <span class=\"age\"><a href=\"item?id=25674964\">19 hours ago</a></span> <span id=\"unv_25674964\"></span> | <a href=\"hide?id=25674964&amp;goto=news\">hide</a> | <a href=\"item?id=25674964\">514 comments</a> </td></tr>\n",
       "<tr class=\"spacer\" style=\"height:5px\"></tr>\n",
       "<tr class=\"athing\" id=\"25654955\">\n",
       "<td align=\"right\" class=\"title\" valign=\"top\"><span class=\"rank\">24.</span></td> <td class=\"votelinks\" valign=\"top\"><center><a href=\"vote?id=25654955&amp;how=up&amp;goto=news\" id=\"up_25654955\"><div class=\"votearrow\" title=\"upvote\"></div></a></center></td><td class=\"title\"><a class=\"storylink\" href=\"https://github.com/norvig/pytudes/blob/master/ipynb/Advent-2020.ipynb\">Peter Norvig's “pytudes” for Advent of Code 2020</a><span class=\"sitebit comhead\"> (<a href=\"from?site=github.com/norvig\"><span class=\"sitestr\">github.com/norvig</span></a>)</span></td></tr><tr><td colspan=\"2\"></td><td class=\"subtext\">\n",
       "<span class=\"score\" id=\"score_25654955\">265 points</span> by <a class=\"hnuser\" href=\"user?id=ff7f00\">ff7f00</a> <span class=\"age\"><a href=\"item?id=25654955\">15 hours ago</a></span> <span id=\"unv_25654955\"></span> | <a href=\"hide?id=25654955&amp;goto=news\">hide</a> | <a href=\"item?id=25654955\">71 comments</a> </td></tr>\n",
       "<tr class=\"spacer\" style=\"height:5px\"></tr>\n",
       "<tr class=\"athing\" id=\"25677272\">\n",
       "<td align=\"right\" class=\"title\" valign=\"top\"><span class=\"rank\">25.</span></td> <td class=\"votelinks\" valign=\"top\"><center><a href=\"vote?id=25677272&amp;how=up&amp;goto=news\" id=\"up_25677272\"><div class=\"votearrow\" title=\"upvote\"></div></a></center></td><td class=\"title\"><a class=\"storylink\" href=\"https://synergyjs.org\">Show HN: I built a 4kb alternative to React, Vue, etc for building web UIs.</a><span class=\"sitebit comhead\"> (<a href=\"from?site=synergyjs.org\"><span class=\"sitestr\">synergyjs.org</span></a>)</span></td></tr><tr><td colspan=\"2\"></td><td class=\"subtext\">\n",
       "<span class=\"score\" id=\"score_25677272\">299 points</span> by <a class=\"hnuser\" href=\"user?id=defx\">defx</a> <span class=\"age\"><a href=\"item?id=25677272\">17 hours ago</a></span> <span id=\"unv_25677272\"></span> | <a href=\"hide?id=25677272&amp;goto=news\">hide</a> | <a href=\"item?id=25677272\">123 comments</a> </td></tr>\n",
       "<tr class=\"spacer\" style=\"height:5px\"></tr>\n",
       "<tr class=\"athing\" id=\"25682359\">\n",
       "<td align=\"right\" class=\"title\" valign=\"top\"><span class=\"rank\">26.</span></td> <td class=\"votelinks\" valign=\"top\"><center><a href=\"vote?id=25682359&amp;how=up&amp;goto=news\" id=\"up_25682359\"><div class=\"votearrow\" title=\"upvote\"></div></a></center></td><td class=\"title\"><a class=\"storylink\" href=\"https://acoup.blog/2021/01/08/collections-that-dothraki-horde-part-iv-screamers-and-howlers/\">Collections: That Dothraki Horde, Part IV: Screamers and Howlers</a><span class=\"sitebit comhead\"> (<a href=\"from?site=acoup.blog\"><span class=\"sitestr\">acoup.blog</span></a>)</span></td></tr><tr><td colspan=\"2\"></td><td class=\"subtext\">\n",
       "<span class=\"score\" id=\"score_25682359\">12 points</span> by <a class=\"hnuser\" href=\"user?id=Illniyar\">Illniyar</a> <span class=\"age\"><a href=\"item?id=25682359\">6 hours ago</a></span> <span id=\"unv_25682359\"></span> | <a href=\"hide?id=25682359&amp;goto=news\">hide</a> | <a href=\"item?id=25682359\">4 comments</a> </td></tr>\n",
       "<tr class=\"spacer\" style=\"height:5px\"></tr>\n",
       "<tr class=\"athing\" id=\"25673275\">\n",
       "<td align=\"right\" class=\"title\" valign=\"top\"><span class=\"rank\">27.</span></td> <td class=\"votelinks\" valign=\"top\"><center><a href=\"vote?id=25673275&amp;how=up&amp;goto=news\" id=\"up_25673275\"><div class=\"votearrow\" title=\"upvote\"></div></a></center></td><td class=\"title\"><a class=\"storylink\" href=\"https://sahillavingia.com/work\">No meetings, no deadlines, no full-time employees</a><span class=\"sitebit comhead\"> (<a href=\"from?site=sahillavingia.com\"><span class=\"sitestr\">sahillavingia.com</span></a>)</span></td></tr><tr><td colspan=\"2\"></td><td class=\"subtext\">\n",
       "<span class=\"score\" id=\"score_25673275\">1204 points</span> by <a class=\"hnuser\" href=\"user?id=sahillavingia\">sahillavingia</a> <span class=\"age\"><a href=\"item?id=25673275\">21 hours ago</a></span> <span id=\"unv_25673275\"></span> | <a href=\"hide?id=25673275&amp;goto=news\">hide</a> | <a href=\"item?id=25673275\">424 comments</a> </td></tr>\n",
       "<tr class=\"spacer\" style=\"height:5px\"></tr>\n",
       "<tr class=\"athing\" id=\"25680125\">\n",
       "<td align=\"right\" class=\"title\" valign=\"top\"><span class=\"rank\">28.</span></td> <td class=\"votelinks\" valign=\"top\"><center><a href=\"vote?id=25680125&amp;how=up&amp;goto=news\" id=\"up_25680125\"><div class=\"votearrow\" title=\"upvote\"></div></a></center></td><td class=\"title\"><a class=\"storylink\" href=\"https://paweldziepak.dev/2019/06/21/avoiding-icache-misses/\">Avoiding instruction cache misses (2019)</a><span class=\"sitebit comhead\"> (<a href=\"from?site=paweldziepak.dev\"><span class=\"sitestr\">paweldziepak.dev</span></a>)</span></td></tr><tr><td colspan=\"2\"></td><td class=\"subtext\">\n",
       "<span class=\"score\" id=\"score_25680125\">58 points</span> by <a class=\"hnuser\" href=\"user?id=nkurz\">nkurz</a> <span class=\"age\"><a href=\"item?id=25680125\">12 hours ago</a></span> <span id=\"unv_25680125\"></span> | <a href=\"hide?id=25680125&amp;goto=news\">hide</a> | <a href=\"item?id=25680125\">12 comments</a> </td></tr>\n",
       "<tr class=\"spacer\" style=\"height:5px\"></tr>\n",
       "<tr class=\"athing\" id=\"25675249\">\n",
       "<td align=\"right\" class=\"title\" valign=\"top\"><span class=\"rank\">29.</span></td> <td class=\"votelinks\" valign=\"top\"><center><a href=\"vote?id=25675249&amp;how=up&amp;goto=news\" id=\"up_25675249\"><div class=\"votearrow\" title=\"upvote\"></div></a></center></td><td class=\"title\"><a class=\"storylink\" href=\"https://www.epicgames.com/site/en-US/news/epic-acquires-rad-game-tools\">Epic acquires RAD Game Tools</a><span class=\"sitebit comhead\"> (<a href=\"from?site=epicgames.com\"><span class=\"sitestr\">epicgames.com</span></a>)</span></td></tr><tr><td colspan=\"2\"></td><td class=\"subtext\">\n",
       "<span class=\"score\" id=\"score_25675249\">249 points</span> by <a class=\"hnuser\" href=\"user?id=jsheard\">jsheard</a> <span class=\"age\"><a href=\"item?id=25675249\">19 hours ago</a></span> <span id=\"unv_25675249\"></span> | <a href=\"hide?id=25675249&amp;goto=news\">hide</a> | <a href=\"item?id=25675249\">168 comments</a> </td></tr>\n",
       "<tr class=\"spacer\" style=\"height:5px\"></tr>\n",
       "<tr class=\"athing\" id=\"25675556\">\n",
       "<td align=\"right\" class=\"title\" valign=\"top\"><span class=\"rank\">30.</span></td> <td class=\"votelinks\" valign=\"top\"><center><a href=\"vote?id=25675556&amp;how=up&amp;goto=news\" id=\"up_25675556\"><div class=\"votearrow\" title=\"upvote\"></div></a></center></td><td class=\"title\"><a class=\"storylink\" href=\"https://ninjalab.io/a-side-journey-to-titan/\">CVE-2021-3011: Key recovery on Google Titan Key</a><span class=\"sitebit comhead\"> (<a href=\"from?site=ninjalab.io\"><span class=\"sitestr\">ninjalab.io</span></a>)</span></td></tr><tr><td colspan=\"2\"></td><td class=\"subtext\">\n",
       "<span class=\"score\" id=\"score_25675556\">228 points</span> by <a class=\"hnuser\" href=\"user?id=hexa-\">hexa-</a> <span class=\"age\"><a href=\"item?id=25675556\">19 hours ago</a></span> <span id=\"unv_25675556\"></span> | <a href=\"hide?id=25675556&amp;goto=news\">hide</a> | <a href=\"item?id=25675556\">74 comments</a> </td></tr>\n",
       "<tr class=\"spacer\" style=\"height:5px\"></tr>\n",
       "<tr class=\"morespace\" style=\"height:10px\"></tr><tr><td colspan=\"2\"></td><td class=\"title\"><a class=\"morelink\" href=\"news?p=2\" rel=\"next\">More</a></td></tr>\n",
       "</table>\n",
       "</td></tr>\n",
       "<tr><td><img height=\"10\" src=\"s.gif\" width=\"0\"/><table cellpadding=\"1\" cellspacing=\"0\" width=\"100%\"><tr><td bgcolor=\"#ff6600\"></td></tr></table><br/><center><span class=\"yclinks\"><a href=\"newsguidelines.html\">Guidelines</a>\n",
       "        | <a href=\"newsfaq.html\">FAQ</a>\n",
       "        | <a href=\"lists\">Lists</a>\n",
       "        | <a href=\"https://github.com/HackerNews/API\">API</a>\n",
       "        | <a href=\"security.html\">Security</a>\n",
       "        | <a href=\"http://www.ycombinator.com/legal/\">Legal</a>\n",
       "        | <a href=\"http://www.ycombinator.com/apply/\">Apply to YC</a>\n",
       "        | <a href=\"mailto:hn@ycombinator.com\">Contact</a></span><br/><br/><form action=\"//hn.algolia.com/\" method=\"get\">Search:\n",
       "          <input autocapitalize=\"off\" autocomplete=\"false\" autocorrect=\"off\" name=\"q\" size=\"17\" spellcheck=\"false\" type=\"text\" value=\"\"/></form>\n",
       "</center></td></tr>\n",
       "</table></center></body><script src=\"hn.js?EQXjG1GP6UjWmk89gzq4\" type=\"text/javascript\"></script></html>"
      ]
     },
     "metadata": {},
     "execution_count": 66
    }
   ]
  },
  {
   "cell_type": "code",
   "execution_count": 67,
   "metadata": {},
   "outputs": [
    {
     "output_type": "execute_result",
     "data": {
      "text/plain": [
       "<title>Hacker News</title>"
      ]
     },
     "metadata": {},
     "execution_count": 67
    }
   ],
   "source": [
    "soup.title"
   ]
  },
  {
   "cell_type": "code",
   "execution_count": 68,
   "metadata": {},
   "outputs": [
    {
     "output_type": "execute_result",
     "data": {
      "text/plain": [
       "<a class=\"storylink\" href=\"https://www.bbc.co.uk/news/technology-55219750\">Google Chrome browser privacy plan investigated in UK</a>"
      ]
     },
     "metadata": {},
     "execution_count": 68
    }
   ],
   "source": [
    "soup.find(name='a',class_='storylink')"
   ]
  },
  {
   "cell_type": "code",
   "execution_count": 69,
   "metadata": {},
   "outputs": [
    {
     "output_type": "execute_result",
     "data": {
      "text/plain": [
       "<a class=\"storylink\" href=\"https://www.bbc.co.uk/news/technology-55219750\">Google Chrome browser privacy plan investigated in UK</a>"
      ]
     },
     "metadata": {},
     "execution_count": 69
    }
   ],
   "source": [
    "soup.select_one('.storylink')"
   ]
  },
  {
   "source": [
    "for link in soup.find_all('a','storylink'):\n",
    "    print(link.getText())\n",
    "    print(link.get('href'))"
   ],
   "cell_type": "code",
   "metadata": {},
   "execution_count": 70,
   "outputs": [
    {
     "output_type": "stream",
     "name": "stdout",
     "text": [
      "Google Chrome browser privacy plan investigated in UK\nhttps://www.bbc.co.uk/news/technology-55219750\nVictory at the High Court against the government’s use of 'general warrants’\nhttps://privacyinternational.org/press-release/4358/victory-high-court-against-governments-use-general-warrants\nWorld's Busiest International and Domestic Air Routes Right Now\nhttps://www.oag.com/busiest-routes-right-now\nScipy Lecture Notes\nhttp://www.scipy-lectures.org/index.html\nApple's privacy labels show WhatsApp and Facebook Messenger hunger for user data\nhttps://www.techradar.com/news/apples-privacy-labels-reveals-whatsapp-and-facebook-messengers-hunger-for-user-data\nDoing Symbolic Math with SymPy\nhttps://lwn.net/Articles/840986/\nHow Boston Dynamics Taught Its Robots to Dance\nhttps://spectrum.ieee.org/automaton/robotics/humanoids/how-boston-dynamics-taught-its-robots-to-dance\nShow HN: Ecco – See what your NLP language model is “thinking”\nhttps://www.eccox.io/\nWhatsApp Beaten by Apple’s New iMessage Privacy Update\nhttps://www.forbes.com/sites/zakdoffman/2021/01/03/whatsapp-beaten-by-apples-new-imessage-update-for-iphone-users/\nTab (YC, London) is hiring full stack developers (fintech/travel)\nhttps://jobs.tab.travel/o/full-stack-developer-1\nHow Tail Call Optimization Works\nhttps://eklitzke.org/how-tail-call-optimization-works\nTexas Instruments sent a DMCA takedown to a site archiving data sheets\nhttps://twitter.com/marcan42/status/1347403996332376065\nRestricted DMA\nhttps://lwn.net/SubscriberLink/841916/3214238251863f9d/\nSealed U.S. Court Records Exposed in SolarWinds Breach\nhttps://krebsonsecurity.com/2021/01/sealed-u-s-court-records-exposed-in-solarwinds-breach/\nMetaballs and Marching Squares\nhttp://jamie-wong.com/2014/08/19/metaballs-and-marching-squares/\nA New History of Arabia, Written in Stone (2018)\nhttps://www.newyorker.com/culture/culture-desk/a-new-history-of-arabia-written-in-stone/\nLove’s contradictions: Catullus on the agony of infatuation\nhttps://psyche.co/ideas/loves-contradictions-catullus-on-the-agony-of-infatuation\nThe Amiga 1000, Still Receiving New Peripherals 35 Years Later\nhttps://hackaday.com/2021/01/08/the-amiga-1000-still-receiving-new-peripherals-35-years-later/\nNuclear lighthouses built by the Soviets in the Arctic [video]\nhttps://www.bbc.com/reel/video/p0931jtk/the-nuclear-lighthouses-built-by-the-soviets-in-the-arctic\nCollege campuses are designed at human-scale – cities can be too\nhttps://www.strongtowns.org/journal/2021/1/6/college-campuses-as-a-model-for-urban-planning\nWikipedia frequently-encountered sources, color-coded by perceived reliability\nhttps://en.wikipedia.org/wiki/Wikipedia:Reliable_sources/Perennial_sources\nDissecting the Apple M1 GPU, part I\nhttps://rosenzweig.io/blog/asahi-gpu-part-1.html\nSimple Bank Is Closing\nhttps://www.oregonlive.com/silicon-forest/2021/01/simple-portland-online-banker-is-shutting-down.html\nPeter Norvig's “pytudes” for Advent of Code 2020\nhttps://github.com/norvig/pytudes/blob/master/ipynb/Advent-2020.ipynb\nShow HN: I built a 4kb alternative to React, Vue, etc for building web UIs.\nhttps://synergyjs.org\nCollections: That Dothraki Horde, Part IV: Screamers and Howlers\nhttps://acoup.blog/2021/01/08/collections-that-dothraki-horde-part-iv-screamers-and-howlers/\nNo meetings, no deadlines, no full-time employees\nhttps://sahillavingia.com/work\nAvoiding instruction cache misses (2019)\nhttps://paweldziepak.dev/2019/06/21/avoiding-icache-misses/\nEpic acquires RAD Game Tools\nhttps://www.epicgames.com/site/en-US/news/epic-acquires-rad-game-tools\nCVE-2021-3011: Key recovery on Google Titan Key\nhttps://ninjalab.io/a-side-journey-to-titan/\n"
     ]
    }
   ]
  },
  {
   "source": [
    "datas=[[link.getText(),link.get('href')] for link in soup.select('.storylink')]\n",
    "datas"
   ],
   "cell_type": "code",
   "metadata": {},
   "execution_count": 71,
   "outputs": [
    {
     "output_type": "execute_result",
     "data": {
      "text/plain": [
       "[['Google Chrome browser privacy plan investigated in UK',\n",
       "  'https://www.bbc.co.uk/news/technology-55219750'],\n",
       " [\"Victory at the High Court against the government’s use of 'general warrants’\",\n",
       "  'https://privacyinternational.org/press-release/4358/victory-high-court-against-governments-use-general-warrants'],\n",
       " [\"World's Busiest International and Domestic Air Routes Right Now\",\n",
       "  'https://www.oag.com/busiest-routes-right-now'],\n",
       " ['Scipy Lecture Notes', 'http://www.scipy-lectures.org/index.html'],\n",
       " [\"Apple's privacy labels show WhatsApp and Facebook Messenger hunger for user data\",\n",
       "  'https://www.techradar.com/news/apples-privacy-labels-reveals-whatsapp-and-facebook-messengers-hunger-for-user-data'],\n",
       " ['Doing Symbolic Math with SymPy', 'https://lwn.net/Articles/840986/'],\n",
       " ['How Boston Dynamics Taught Its Robots to Dance',\n",
       "  'https://spectrum.ieee.org/automaton/robotics/humanoids/how-boston-dynamics-taught-its-robots-to-dance'],\n",
       " ['Show HN: Ecco – See what your NLP language model is “thinking”',\n",
       "  'https://www.eccox.io/'],\n",
       " ['WhatsApp Beaten by Apple’s New iMessage Privacy Update',\n",
       "  'https://www.forbes.com/sites/zakdoffman/2021/01/03/whatsapp-beaten-by-apples-new-imessage-update-for-iphone-users/'],\n",
       " ['Tab (YC, London) is hiring full stack developers (fintech/travel)',\n",
       "  'https://jobs.tab.travel/o/full-stack-developer-1'],\n",
       " ['How Tail Call Optimization Works',\n",
       "  'https://eklitzke.org/how-tail-call-optimization-works'],\n",
       " ['Texas Instruments sent a DMCA takedown to a site archiving data sheets',\n",
       "  'https://twitter.com/marcan42/status/1347403996332376065'],\n",
       " ['Restricted DMA', 'https://lwn.net/SubscriberLink/841916/3214238251863f9d/'],\n",
       " ['Sealed U.S. Court Records Exposed in SolarWinds Breach',\n",
       "  'https://krebsonsecurity.com/2021/01/sealed-u-s-court-records-exposed-in-solarwinds-breach/'],\n",
       " ['Metaballs and Marching Squares',\n",
       "  'http://jamie-wong.com/2014/08/19/metaballs-and-marching-squares/'],\n",
       " ['A New History of Arabia, Written in Stone (2018)',\n",
       "  'https://www.newyorker.com/culture/culture-desk/a-new-history-of-arabia-written-in-stone/'],\n",
       " ['Love’s contradictions: Catullus on the agony of infatuation',\n",
       "  'https://psyche.co/ideas/loves-contradictions-catullus-on-the-agony-of-infatuation'],\n",
       " ['The Amiga 1000, Still Receiving New Peripherals 35 Years Later',\n",
       "  'https://hackaday.com/2021/01/08/the-amiga-1000-still-receiving-new-peripherals-35-years-later/'],\n",
       " ['Nuclear lighthouses built by the Soviets in the Arctic [video]',\n",
       "  'https://www.bbc.com/reel/video/p0931jtk/the-nuclear-lighthouses-built-by-the-soviets-in-the-arctic'],\n",
       " ['College campuses are designed at human-scale – cities can be too',\n",
       "  'https://www.strongtowns.org/journal/2021/1/6/college-campuses-as-a-model-for-urban-planning'],\n",
       " ['Wikipedia frequently-encountered sources, color-coded by perceived reliability',\n",
       "  'https://en.wikipedia.org/wiki/Wikipedia:Reliable_sources/Perennial_sources'],\n",
       " ['Dissecting the Apple M1 GPU, part I',\n",
       "  'https://rosenzweig.io/blog/asahi-gpu-part-1.html'],\n",
       " ['Simple Bank Is Closing',\n",
       "  'https://www.oregonlive.com/silicon-forest/2021/01/simple-portland-online-banker-is-shutting-down.html'],\n",
       " [\"Peter Norvig's “pytudes” for Advent of Code 2020\",\n",
       "  'https://github.com/norvig/pytudes/blob/master/ipynb/Advent-2020.ipynb'],\n",
       " ['Show HN: I built a 4kb alternative to React, Vue, etc for building web UIs.',\n",
       "  'https://synergyjs.org'],\n",
       " ['Collections: That Dothraki Horde, Part IV: Screamers and Howlers',\n",
       "  'https://acoup.blog/2021/01/08/collections-that-dothraki-horde-part-iv-screamers-and-howlers/'],\n",
       " ['No meetings, no deadlines, no full-time employees',\n",
       "  'https://sahillavingia.com/work'],\n",
       " ['Avoiding instruction cache misses (2019)',\n",
       "  'https://paweldziepak.dev/2019/06/21/avoiding-icache-misses/'],\n",
       " ['Epic acquires RAD Game Tools',\n",
       "  'https://www.epicgames.com/site/en-US/news/epic-acquires-rad-game-tools'],\n",
       " ['CVE-2021-3011: Key recovery on Google Titan Key',\n",
       "  'https://ninjalab.io/a-side-journey-to-titan/']]"
      ]
     },
     "metadata": {},
     "execution_count": 71
    }
   ]
  },
  {
   "cell_type": "code",
   "execution_count": 72,
   "metadata": {},
   "outputs": [],
   "source": [
    "scores=[]\n",
    "for score in soup.find_all('span',class_='score'):\n",
    "    scores.append(score.text.split(' ')[0])"
   ]
  },
  {
   "cell_type": "code",
   "execution_count": 73,
   "metadata": {},
   "outputs": [
    {
     "output_type": "execute_result",
     "data": {
      "text/plain": [
       "([['Google Chrome browser privacy plan investigated in UK',\n",
       "   'https://www.bbc.co.uk/news/technology-55219750'],\n",
       "  [\"Victory at the High Court against the government’s use of 'general warrants’\",\n",
       "   'https://privacyinternational.org/press-release/4358/victory-high-court-against-governments-use-general-warrants'],\n",
       "  [\"World's Busiest International and Domestic Air Routes Right Now\",\n",
       "   'https://www.oag.com/busiest-routes-right-now'],\n",
       "  ['Scipy Lecture Notes', 'http://www.scipy-lectures.org/index.html'],\n",
       "  [\"Apple's privacy labels show WhatsApp and Facebook Messenger hunger for user data\",\n",
       "   'https://www.techradar.com/news/apples-privacy-labels-reveals-whatsapp-and-facebook-messengers-hunger-for-user-data'],\n",
       "  ['Doing Symbolic Math with SymPy', 'https://lwn.net/Articles/840986/'],\n",
       "  ['How Boston Dynamics Taught Its Robots to Dance',\n",
       "   'https://spectrum.ieee.org/automaton/robotics/humanoids/how-boston-dynamics-taught-its-robots-to-dance'],\n",
       "  ['Show HN: Ecco – See what your NLP language model is “thinking”',\n",
       "   'https://www.eccox.io/'],\n",
       "  ['WhatsApp Beaten by Apple’s New iMessage Privacy Update',\n",
       "   'https://www.forbes.com/sites/zakdoffman/2021/01/03/whatsapp-beaten-by-apples-new-imessage-update-for-iphone-users/'],\n",
       "  ['Tab (YC, London) is hiring full stack developers (fintech/travel)',\n",
       "   'https://jobs.tab.travel/o/full-stack-developer-1'],\n",
       "  ['How Tail Call Optimization Works',\n",
       "   'https://eklitzke.org/how-tail-call-optimization-works'],\n",
       "  ['Texas Instruments sent a DMCA takedown to a site archiving data sheets',\n",
       "   'https://twitter.com/marcan42/status/1347403996332376065'],\n",
       "  ['Restricted DMA',\n",
       "   'https://lwn.net/SubscriberLink/841916/3214238251863f9d/'],\n",
       "  ['Sealed U.S. Court Records Exposed in SolarWinds Breach',\n",
       "   'https://krebsonsecurity.com/2021/01/sealed-u-s-court-records-exposed-in-solarwinds-breach/'],\n",
       "  ['Metaballs and Marching Squares',\n",
       "   'http://jamie-wong.com/2014/08/19/metaballs-and-marching-squares/'],\n",
       "  ['A New History of Arabia, Written in Stone (2018)',\n",
       "   'https://www.newyorker.com/culture/culture-desk/a-new-history-of-arabia-written-in-stone/'],\n",
       "  ['Love’s contradictions: Catullus on the agony of infatuation',\n",
       "   'https://psyche.co/ideas/loves-contradictions-catullus-on-the-agony-of-infatuation'],\n",
       "  ['The Amiga 1000, Still Receiving New Peripherals 35 Years Later',\n",
       "   'https://hackaday.com/2021/01/08/the-amiga-1000-still-receiving-new-peripherals-35-years-later/'],\n",
       "  ['Nuclear lighthouses built by the Soviets in the Arctic [video]',\n",
       "   'https://www.bbc.com/reel/video/p0931jtk/the-nuclear-lighthouses-built-by-the-soviets-in-the-arctic'],\n",
       "  ['College campuses are designed at human-scale – cities can be too',\n",
       "   'https://www.strongtowns.org/journal/2021/1/6/college-campuses-as-a-model-for-urban-planning'],\n",
       "  ['Wikipedia frequently-encountered sources, color-coded by perceived reliability',\n",
       "   'https://en.wikipedia.org/wiki/Wikipedia:Reliable_sources/Perennial_sources'],\n",
       "  ['Dissecting the Apple M1 GPU, part I',\n",
       "   'https://rosenzweig.io/blog/asahi-gpu-part-1.html'],\n",
       "  ['Simple Bank Is Closing',\n",
       "   'https://www.oregonlive.com/silicon-forest/2021/01/simple-portland-online-banker-is-shutting-down.html'],\n",
       "  [\"Peter Norvig's “pytudes” for Advent of Code 2020\",\n",
       "   'https://github.com/norvig/pytudes/blob/master/ipynb/Advent-2020.ipynb'],\n",
       "  ['Show HN: I built a 4kb alternative to React, Vue, etc for building web UIs.',\n",
       "   'https://synergyjs.org'],\n",
       "  ['Collections: That Dothraki Horde, Part IV: Screamers and Howlers',\n",
       "   'https://acoup.blog/2021/01/08/collections-that-dothraki-horde-part-iv-screamers-and-howlers/'],\n",
       "  ['No meetings, no deadlines, no full-time employees',\n",
       "   'https://sahillavingia.com/work'],\n",
       "  ['Avoiding instruction cache misses (2019)',\n",
       "   'https://paweldziepak.dev/2019/06/21/avoiding-icache-misses/'],\n",
       "  ['Epic acquires RAD Game Tools',\n",
       "   'https://www.epicgames.com/site/en-US/news/epic-acquires-rad-game-tools'],\n",
       "  ['CVE-2021-3011: Key recovery on Google Titan Key',\n",
       "   'https://ninjalab.io/a-side-journey-to-titan/']],\n",
       " ['58',\n",
       "  '35',\n",
       "  '13',\n",
       "  '179',\n",
       "  '129',\n",
       "  '38',\n",
       "  '249',\n",
       "  '21',\n",
       "  '76',\n",
       "  '153',\n",
       "  '193',\n",
       "  '16',\n",
       "  '353',\n",
       "  '73',\n",
       "  '29',\n",
       "  '68',\n",
       "  '46',\n",
       "  '423',\n",
       "  '218',\n",
       "  '42',\n",
       "  '507',\n",
       "  '461',\n",
       "  '265',\n",
       "  '299',\n",
       "  '12',\n",
       "  '1204',\n",
       "  '58',\n",
       "  '249',\n",
       "  '228'])"
      ]
     },
     "metadata": {},
     "execution_count": 73
    }
   ],
   "source": [
    "datas,scores"
   ]
  },
  {
   "cell_type": "code",
   "execution_count": 74,
   "metadata": {},
   "outputs": [
    {
     "output_type": "execute_result",
     "data": {
      "text/plain": [
       "(30, 29)"
      ]
     },
     "metadata": {},
     "execution_count": 74
    }
   ],
   "source": [
    "len(datas),len(scores)"
   ]
  },
  {
   "source": [
    "print(soup.prettify())"
   ],
   "cell_type": "code",
   "metadata": {
    "tags": [
     "outputPrepend"
    ]
   },
   "execution_count": 75,
   "outputs": [
    {
     "output_type": "stream",
     "name": "stdout",
     "text": [
      "         Nuclear lighthouses built by the Soviets in the Arctic [video]\n         </a>\n         <span class=\"sitebit comhead\">\n          (\n          <a href=\"from?site=bbc.com\">\n           <span class=\"sitestr\">\n            bbc.com\n           </span>\n          </a>\n          )\n         </span>\n        </td>\n       </tr>\n       <tr>\n        <td colspan=\"2\">\n        </td>\n        <td class=\"subtext\">\n         <span class=\"score\" id=\"score_25677144\">\n          423 points\n         </span>\n         by\n         <a class=\"hnuser\" href=\"user?id=etimberg\">\n          etimberg\n         </a>\n         <span class=\"age\">\n          <a href=\"item?id=25677144\">\n           17 hours ago\n          </a>\n         </span>\n         <span id=\"unv_25677144\">\n         </span>\n         |\n         <a href=\"hide?id=25677144&amp;goto=news\">\n          hide\n         </a>\n         |\n         <a href=\"item?id=25677144\">\n          226 comments\n         </a>\n        </td>\n       </tr>\n       <tr class=\"spacer\" style=\"height:5px\">\n       </tr>\n       <tr class=\"athing\" id=\"25679474\">\n        <td align=\"right\" class=\"title\" valign=\"top\">\n         <span class=\"rank\">\n          20.\n         </span>\n        </td>\n        <td class=\"votelinks\" valign=\"top\">\n         <center>\n          <a href=\"vote?id=25679474&amp;how=up&amp;goto=news\" id=\"up_25679474\">\n           <div class=\"votearrow\" title=\"upvote\">\n           </div>\n          </a>\n         </center>\n        </td>\n        <td class=\"title\">\n         <a class=\"storylink\" href=\"https://www.strongtowns.org/journal/2021/1/6/college-campuses-as-a-model-for-urban-planning\">\n          College campuses are designed at human-scale – cities can be too\n         </a>\n         <span class=\"sitebit comhead\">\n          (\n          <a href=\"from?site=strongtowns.org\">\n           <span class=\"sitestr\">\n            strongtowns.org\n           </span>\n          </a>\n          )\n         </span>\n        </td>\n       </tr>\n       <tr>\n        <td colspan=\"2\">\n        </td>\n        <td class=\"subtext\">\n         <span class=\"score\" id=\"score_25679474\">\n          218 points\n         </span>\n         by\n         <a class=\"hnuser\" href=\"user?id=jseliger\">\n          jseliger\n         </a>\n         <span class=\"age\">\n          <a href=\"item?id=25679474\">\n           14 hours ago\n          </a>\n         </span>\n         <span id=\"unv_25679474\">\n         </span>\n         |\n         <a href=\"hide?id=25679474&amp;goto=news\">\n          hide\n         </a>\n         |\n         <a href=\"item?id=25679474\">\n          98 comments\n         </a>\n        </td>\n       </tr>\n       <tr class=\"spacer\" style=\"height:5px\">\n       </tr>\n       <tr class=\"athing\" id=\"25683402\">\n        <td align=\"right\" class=\"title\" valign=\"top\">\n         <span class=\"rank\">\n          21.\n         </span>\n        </td>\n        <td class=\"votelinks\" valign=\"top\">\n         <center>\n          <a href=\"vote?id=25683402&amp;how=up&amp;goto=news\" id=\"up_25683402\">\n           <div class=\"votearrow\" title=\"upvote\">\n           </div>\n          </a>\n         </center>\n        </td>\n        <td class=\"title\">\n         <a class=\"storylink\" href=\"https://en.wikipedia.org/wiki/Wikipedia:Reliable_sources/Perennial_sources\">\n          Wikipedia frequently-encountered sources, color-coded by perceived reliability\n         </a>\n         <span class=\"sitebit comhead\">\n          (\n          <a href=\"from?site=wikipedia.org\">\n           <span class=\"sitestr\">\n            wikipedia.org\n           </span>\n          </a>\n          )\n         </span>\n        </td>\n       </tr>\n       <tr>\n        <td colspan=\"2\">\n        </td>\n        <td class=\"subtext\">\n         <span class=\"score\" id=\"score_25683402\">\n          42 points\n         </span>\n         by\n         <a class=\"hnuser\" href=\"user?id=ColinWright\">\n          ColinWright\n         </a>\n         <span class=\"age\">\n          <a href=\"item?id=25683402\">\n           3 hours ago\n          </a>\n         </span>\n         <span id=\"unv_25683402\">\n         </span>\n         |\n         <a href=\"hide?id=25683402&amp;goto=news\">\n          hide\n         </a>\n         |\n         <a href=\"item?id=25683402\">\n          18 comments\n         </a>\n        </td>\n       </tr>\n       <tr class=\"spacer\" style=\"height:5px\">\n       </tr>\n       <tr class=\"athing\" id=\"25673631\">\n        <td align=\"right\" class=\"title\" valign=\"top\">\n         <span class=\"rank\">\n          22.\n         </span>\n        </td>\n        <td class=\"votelinks\" valign=\"top\">\n         <center>\n          <a href=\"vote?id=25673631&amp;how=up&amp;goto=news\" id=\"up_25673631\">\n           <div class=\"votearrow\" title=\"upvote\">\n           </div>\n          </a>\n         </center>\n        </td>\n        <td class=\"title\">\n         <a class=\"storylink\" href=\"https://rosenzweig.io/blog/asahi-gpu-part-1.html\">\n          Dissecting the Apple M1 GPU, part I\n         </a>\n         <span class=\"sitebit comhead\">\n          (\n          <a href=\"from?site=rosenzweig.io\">\n           <span class=\"sitestr\">\n            rosenzweig.io\n           </span>\n          </a>\n          )\n         </span>\n        </td>\n       </tr>\n       <tr>\n        <td colspan=\"2\">\n        </td>\n        <td class=\"subtext\">\n         <span class=\"score\" id=\"score_25673631\">\n          507 points\n         </span>\n         by\n         <a class=\"hnuser\" href=\"user?id=caution\">\n          caution\n         </a>\n         <span class=\"age\">\n          <a href=\"item?id=25673631\">\n           21 hours ago\n          </a>\n         </span>\n         <span id=\"unv_25673631\">\n         </span>\n         |\n         <a href=\"hide?id=25673631&amp;goto=news\">\n          hide\n         </a>\n         |\n         <a href=\"item?id=25673631\">\n          118 comments\n         </a>\n        </td>\n       </tr>\n       <tr class=\"spacer\" style=\"height:5px\">\n       </tr>\n       <tr class=\"athing\" id=\"25674964\">\n        <td align=\"right\" class=\"title\" valign=\"top\">\n         <span class=\"rank\">\n          23.\n         </span>\n        </td>\n        <td class=\"votelinks\" valign=\"top\">\n         <center>\n          <a href=\"vote?id=25674964&amp;how=up&amp;goto=news\" id=\"up_25674964\">\n           <div class=\"votearrow\" title=\"upvote\">\n           </div>\n          </a>\n         </center>\n        </td>\n        <td class=\"title\">\n         <a class=\"storylink\" href=\"https://www.oregonlive.com/silicon-forest/2021/01/simple-portland-online-banker-is-shutting-down.html\">\n          Simple Bank Is Closing\n         </a>\n         <span class=\"sitebit comhead\">\n          (\n          <a href=\"from?site=oregonlive.com\">\n           <span class=\"sitestr\">\n            oregonlive.com\n           </span>\n          </a>\n          )\n         </span>\n        </td>\n       </tr>\n       <tr>\n        <td colspan=\"2\">\n        </td>\n        <td class=\"subtext\">\n         <span class=\"score\" id=\"score_25674964\">\n          461 points\n         </span>\n         by\n         <a class=\"hnuser\" href=\"user?id=roberto8647\">\n          roberto8647\n         </a>\n         <span class=\"age\">\n          <a href=\"item?id=25674964\">\n           19 hours ago\n          </a>\n         </span>\n         <span id=\"unv_25674964\">\n         </span>\n         |\n         <a href=\"hide?id=25674964&amp;goto=news\">\n          hide\n         </a>\n         |\n         <a href=\"item?id=25674964\">\n          514 comments\n         </a>\n        </td>\n       </tr>\n       <tr class=\"spacer\" style=\"height:5px\">\n       </tr>\n       <tr class=\"athing\" id=\"25654955\">\n        <td align=\"right\" class=\"title\" valign=\"top\">\n         <span class=\"rank\">\n          24.\n         </span>\n        </td>\n        <td class=\"votelinks\" valign=\"top\">\n         <center>\n          <a href=\"vote?id=25654955&amp;how=up&amp;goto=news\" id=\"up_25654955\">\n           <div class=\"votearrow\" title=\"upvote\">\n           </div>\n          </a>\n         </center>\n        </td>\n        <td class=\"title\">\n         <a class=\"storylink\" href=\"https://github.com/norvig/pytudes/blob/master/ipynb/Advent-2020.ipynb\">\n          Peter Norvig's “pytudes” for Advent of Code 2020\n         </a>\n         <span class=\"sitebit comhead\">\n          (\n          <a href=\"from?site=github.com/norvig\">\n           <span class=\"sitestr\">\n            github.com/norvig\n           </span>\n          </a>\n          )\n         </span>\n        </td>\n       </tr>\n       <tr>\n        <td colspan=\"2\">\n        </td>\n        <td class=\"subtext\">\n         <span class=\"score\" id=\"score_25654955\">\n          265 points\n         </span>\n         by\n         <a class=\"hnuser\" href=\"user?id=ff7f00\">\n          ff7f00\n         </a>\n         <span class=\"age\">\n          <a href=\"item?id=25654955\">\n           15 hours ago\n          </a>\n         </span>\n         <span id=\"unv_25654955\">\n         </span>\n         |\n         <a href=\"hide?id=25654955&amp;goto=news\">\n          hide\n         </a>\n         |\n         <a href=\"item?id=25654955\">\n          71 comments\n         </a>\n        </td>\n       </tr>\n       <tr class=\"spacer\" style=\"height:5px\">\n       </tr>\n       <tr class=\"athing\" id=\"25677272\">\n        <td align=\"right\" class=\"title\" valign=\"top\">\n         <span class=\"rank\">\n          25.\n         </span>\n        </td>\n        <td class=\"votelinks\" valign=\"top\">\n         <center>\n          <a href=\"vote?id=25677272&amp;how=up&amp;goto=news\" id=\"up_25677272\">\n           <div class=\"votearrow\" title=\"upvote\">\n           </div>\n          </a>\n         </center>\n        </td>\n        <td class=\"title\">\n         <a class=\"storylink\" href=\"https://synergyjs.org\">\n          Show HN: I built a 4kb alternative to React, Vue, etc for building web UIs.\n         </a>\n         <span class=\"sitebit comhead\">\n          (\n          <a href=\"from?site=synergyjs.org\">\n           <span class=\"sitestr\">\n            synergyjs.org\n           </span>\n          </a>\n          )\n         </span>\n        </td>\n       </tr>\n       <tr>\n        <td colspan=\"2\">\n        </td>\n        <td class=\"subtext\">\n         <span class=\"score\" id=\"score_25677272\">\n          299 points\n         </span>\n         by\n         <a class=\"hnuser\" href=\"user?id=defx\">\n          defx\n         </a>\n         <span class=\"age\">\n          <a href=\"item?id=25677272\">\n           17 hours ago\n          </a>\n         </span>\n         <span id=\"unv_25677272\">\n         </span>\n         |\n         <a href=\"hide?id=25677272&amp;goto=news\">\n          hide\n         </a>\n         |\n         <a href=\"item?id=25677272\">\n          123 comments\n         </a>\n        </td>\n       </tr>\n       <tr class=\"spacer\" style=\"height:5px\">\n       </tr>\n       <tr class=\"athing\" id=\"25682359\">\n        <td align=\"right\" class=\"title\" valign=\"top\">\n         <span class=\"rank\">\n          26.\n         </span>\n        </td>\n        <td class=\"votelinks\" valign=\"top\">\n         <center>\n          <a href=\"vote?id=25682359&amp;how=up&amp;goto=news\" id=\"up_25682359\">\n           <div class=\"votearrow\" title=\"upvote\">\n           </div>\n          </a>\n         </center>\n        </td>\n        <td class=\"title\">\n         <a class=\"storylink\" href=\"https://acoup.blog/2021/01/08/collections-that-dothraki-horde-part-iv-screamers-and-howlers/\">\n          Collections: That Dothraki Horde, Part IV: Screamers and Howlers\n         </a>\n         <span class=\"sitebit comhead\">\n          (\n          <a href=\"from?site=acoup.blog\">\n           <span class=\"sitestr\">\n            acoup.blog\n           </span>\n          </a>\n          )\n         </span>\n        </td>\n       </tr>\n       <tr>\n        <td colspan=\"2\">\n        </td>\n        <td class=\"subtext\">\n         <span class=\"score\" id=\"score_25682359\">\n          12 points\n         </span>\n         by\n         <a class=\"hnuser\" href=\"user?id=Illniyar\">\n          Illniyar\n         </a>\n         <span class=\"age\">\n          <a href=\"item?id=25682359\">\n           6 hours ago\n          </a>\n         </span>\n         <span id=\"unv_25682359\">\n         </span>\n         |\n         <a href=\"hide?id=25682359&amp;goto=news\">\n          hide\n         </a>\n         |\n         <a href=\"item?id=25682359\">\n          4 comments\n         </a>\n        </td>\n       </tr>\n       <tr class=\"spacer\" style=\"height:5px\">\n       </tr>\n       <tr class=\"athing\" id=\"25673275\">\n        <td align=\"right\" class=\"title\" valign=\"top\">\n         <span class=\"rank\">\n          27.\n         </span>\n        </td>\n        <td class=\"votelinks\" valign=\"top\">\n         <center>\n          <a href=\"vote?id=25673275&amp;how=up&amp;goto=news\" id=\"up_25673275\">\n           <div class=\"votearrow\" title=\"upvote\">\n           </div>\n          </a>\n         </center>\n        </td>\n        <td class=\"title\">\n         <a class=\"storylink\" href=\"https://sahillavingia.com/work\">\n          No meetings, no deadlines, no full-time employees\n         </a>\n         <span class=\"sitebit comhead\">\n          (\n          <a href=\"from?site=sahillavingia.com\">\n           <span class=\"sitestr\">\n            sahillavingia.com\n           </span>\n          </a>\n          )\n         </span>\n        </td>\n       </tr>\n       <tr>\n        <td colspan=\"2\">\n        </td>\n        <td class=\"subtext\">\n         <span class=\"score\" id=\"score_25673275\">\n          1204 points\n         </span>\n         by\n         <a class=\"hnuser\" href=\"user?id=sahillavingia\">\n          sahillavingia\n         </a>\n         <span class=\"age\">\n          <a href=\"item?id=25673275\">\n           21 hours ago\n          </a>\n         </span>\n         <span id=\"unv_25673275\">\n         </span>\n         |\n         <a href=\"hide?id=25673275&amp;goto=news\">\n          hide\n         </a>\n         |\n         <a href=\"item?id=25673275\">\n          424 comments\n         </a>\n        </td>\n       </tr>\n       <tr class=\"spacer\" style=\"height:5px\">\n       </tr>\n       <tr class=\"athing\" id=\"25680125\">\n        <td align=\"right\" class=\"title\" valign=\"top\">\n         <span class=\"rank\">\n          28.\n         </span>\n        </td>\n        <td class=\"votelinks\" valign=\"top\">\n         <center>\n          <a href=\"vote?id=25680125&amp;how=up&amp;goto=news\" id=\"up_25680125\">\n           <div class=\"votearrow\" title=\"upvote\">\n           </div>\n          </a>\n         </center>\n        </td>\n        <td class=\"title\">\n         <a class=\"storylink\" href=\"https://paweldziepak.dev/2019/06/21/avoiding-icache-misses/\">\n          Avoiding instruction cache misses (2019)\n         </a>\n         <span class=\"sitebit comhead\">\n          (\n          <a href=\"from?site=paweldziepak.dev\">\n           <span class=\"sitestr\">\n            paweldziepak.dev\n           </span>\n          </a>\n          )\n         </span>\n        </td>\n       </tr>\n       <tr>\n        <td colspan=\"2\">\n        </td>\n        <td class=\"subtext\">\n         <span class=\"score\" id=\"score_25680125\">\n          58 points\n         </span>\n         by\n         <a class=\"hnuser\" href=\"user?id=nkurz\">\n          nkurz\n         </a>\n         <span class=\"age\">\n          <a href=\"item?id=25680125\">\n           12 hours ago\n          </a>\n         </span>\n         <span id=\"unv_25680125\">\n         </span>\n         |\n         <a href=\"hide?id=25680125&amp;goto=news\">\n          hide\n         </a>\n         |\n         <a href=\"item?id=25680125\">\n          12 comments\n         </a>\n        </td>\n       </tr>\n       <tr class=\"spacer\" style=\"height:5px\">\n       </tr>\n       <tr class=\"athing\" id=\"25675249\">\n        <td align=\"right\" class=\"title\" valign=\"top\">\n         <span class=\"rank\">\n          29.\n         </span>\n        </td>\n        <td class=\"votelinks\" valign=\"top\">\n         <center>\n          <a href=\"vote?id=25675249&amp;how=up&amp;goto=news\" id=\"up_25675249\">\n           <div class=\"votearrow\" title=\"upvote\">\n           </div>\n          </a>\n         </center>\n        </td>\n        <td class=\"title\">\n         <a class=\"storylink\" href=\"https://www.epicgames.com/site/en-US/news/epic-acquires-rad-game-tools\">\n          Epic acquires RAD Game Tools\n         </a>\n         <span class=\"sitebit comhead\">\n          (\n          <a href=\"from?site=epicgames.com\">\n           <span class=\"sitestr\">\n            epicgames.com\n           </span>\n          </a>\n          )\n         </span>\n        </td>\n       </tr>\n       <tr>\n        <td colspan=\"2\">\n        </td>\n        <td class=\"subtext\">\n         <span class=\"score\" id=\"score_25675249\">\n          249 points\n         </span>\n         by\n         <a class=\"hnuser\" href=\"user?id=jsheard\">\n          jsheard\n         </a>\n         <span class=\"age\">\n          <a href=\"item?id=25675249\">\n           19 hours ago\n          </a>\n         </span>\n         <span id=\"unv_25675249\">\n         </span>\n         |\n         <a href=\"hide?id=25675249&amp;goto=news\">\n          hide\n         </a>\n         |\n         <a href=\"item?id=25675249\">\n          168 comments\n         </a>\n        </td>\n       </tr>\n       <tr class=\"spacer\" style=\"height:5px\">\n       </tr>\n       <tr class=\"athing\" id=\"25675556\">\n        <td align=\"right\" class=\"title\" valign=\"top\">\n         <span class=\"rank\">\n          30.\n         </span>\n        </td>\n        <td class=\"votelinks\" valign=\"top\">\n         <center>\n          <a href=\"vote?id=25675556&amp;how=up&amp;goto=news\" id=\"up_25675556\">\n           <div class=\"votearrow\" title=\"upvote\">\n           </div>\n          </a>\n         </center>\n        </td>\n        <td class=\"title\">\n         <a class=\"storylink\" href=\"https://ninjalab.io/a-side-journey-to-titan/\">\n          CVE-2021-3011: Key recovery on Google Titan Key\n         </a>\n         <span class=\"sitebit comhead\">\n          (\n          <a href=\"from?site=ninjalab.io\">\n           <span class=\"sitestr\">\n            ninjalab.io\n           </span>\n          </a>\n          )\n         </span>\n        </td>\n       </tr>\n       <tr>\n        <td colspan=\"2\">\n        </td>\n        <td class=\"subtext\">\n         <span class=\"score\" id=\"score_25675556\">\n          228 points\n         </span>\n         by\n         <a class=\"hnuser\" href=\"user?id=hexa-\">\n          hexa-\n         </a>\n         <span class=\"age\">\n          <a href=\"item?id=25675556\">\n           19 hours ago\n          </a>\n         </span>\n         <span id=\"unv_25675556\">\n         </span>\n         |\n         <a href=\"hide?id=25675556&amp;goto=news\">\n          hide\n         </a>\n         |\n         <a href=\"item?id=25675556\">\n          74 comments\n         </a>\n        </td>\n       </tr>\n       <tr class=\"spacer\" style=\"height:5px\">\n       </tr>\n       <tr class=\"morespace\" style=\"height:10px\">\n       </tr>\n       <tr>\n        <td colspan=\"2\">\n        </td>\n        <td class=\"title\">\n         <a class=\"morelink\" href=\"news?p=2\" rel=\"next\">\n          More\n         </a>\n        </td>\n       </tr>\n      </table>\n     </td>\n    </tr>\n    <tr>\n     <td>\n      <img height=\"10\" src=\"s.gif\" width=\"0\"/>\n      <table cellpadding=\"1\" cellspacing=\"0\" width=\"100%\">\n       <tr>\n        <td bgcolor=\"#ff6600\">\n        </td>\n       </tr>\n      </table>\n      <br/>\n      <center>\n       <span class=\"yclinks\">\n        <a href=\"newsguidelines.html\">\n         Guidelines\n        </a>\n        |\n        <a href=\"newsfaq.html\">\n         FAQ\n        </a>\n        |\n        <a href=\"lists\">\n         Lists\n        </a>\n        |\n        <a href=\"https://github.com/HackerNews/API\">\n         API\n        </a>\n        |\n        <a href=\"security.html\">\n         Security\n        </a>\n        |\n        <a href=\"http://www.ycombinator.com/legal/\">\n         Legal\n        </a>\n        |\n        <a href=\"http://www.ycombinator.com/apply/\">\n         Apply to YC\n        </a>\n        |\n        <a href=\"mailto:hn@ycombinator.com\">\n         Contact\n        </a>\n       </span>\n       <br/>\n       <br/>\n       <form action=\"//hn.algolia.com/\" method=\"get\">\n        Search:\n        <input autocapitalize=\"off\" autocomplete=\"false\" autocorrect=\"off\" name=\"q\" size=\"17\" spellcheck=\"false\" type=\"text\" value=\"\"/>\n       </form>\n      </center>\n     </td>\n    </tr>\n   </table>\n  </center>\n </body>\n <script src=\"hn.js?EQXjG1GP6UjWmk89gzq4\" type=\"text/javascript\">\n </script>\n</html>\n\n"
     ]
    }
   ]
  },
  {
   "source": [
    "trs=soup.find(id=\"hnmain\").find_all('tr')\n",
    "trs"
   ],
   "cell_type": "code",
   "metadata": {},
   "execution_count": 76,
   "outputs": [
    {
     "output_type": "execute_result",
     "data": {
      "text/plain": [
       "<td class=\"title\"><a class=\"storylink\" href=\"https://twitter.com/marcan42/status/1347403996332376065\">Texas Instruments sent a DMCA takedown to a site archiving data sheets</a><span class=\"sitebit comhead\"> (<a href=\"from?site=twitter.com/marcan42\"><span class=\"sitestr\">twitter.com/marcan42</span></a>)</span></td></tr>,\n",
       " <tr><td colspan=\"2\"></td><td class=\"subtext\">\n",
       " <span class=\"score\" id=\"score_25682785\">193 points</span> by <a class=\"hnuser\" href=\"user?id=DyslexicAtheist\">DyslexicAtheist</a> <span class=\"age\"><a href=\"item?id=25682785\">5 hours ago</a></span> <span id=\"unv_25682785\"></span> | <a href=\"hide?id=25682785&amp;goto=news\">hide</a> | <a href=\"item?id=25682785\">58 comments</a> </td></tr>,\n",
       " <tr class=\"spacer\" style=\"height:5px\"></tr>,\n",
       " <tr class=\"athing\" id=\"25683158\">\n",
       " <td align=\"right\" class=\"title\" valign=\"top\"><span class=\"rank\">13.</span></td> <td class=\"votelinks\" valign=\"top\"><center><a href=\"vote?id=25683158&amp;how=up&amp;goto=news\" id=\"up_25683158\"><div class=\"votearrow\" title=\"upvote\"></div></a></center></td><td class=\"title\"><a class=\"storylink\" href=\"https://lwn.net/SubscriberLink/841916/3214238251863f9d/\">Restricted DMA</a><span class=\"sitebit comhead\"> (<a href=\"from?site=lwn.net\"><span class=\"sitestr\">lwn.net</span></a>)</span></td></tr>,\n",
       " <tr><td colspan=\"2\"></td><td class=\"subtext\">\n",
       " <span class=\"score\" id=\"score_25683158\">16 points</span> by <a class=\"hnuser\" href=\"user?id=Tomte\">Tomte</a> <span class=\"age\"><a href=\"item?id=25683158\">4 hours ago</a></span> <span id=\"unv_25683158\"></span> | <a href=\"hide?id=25683158&amp;goto=news\">hide</a> | <a href=\"item?id=25683158\">1 comment</a> </td></tr>,\n",
       " <tr class=\"spacer\" style=\"height:5px\"></tr>,\n",
       " <tr class=\"athing\" id=\"25679388\">\n",
       " <td align=\"right\" class=\"title\" valign=\"top\"><span class=\"rank\">14.</span></td> <td class=\"votelinks\" valign=\"top\"><center><a href=\"vote?id=25679388&amp;how=up&amp;goto=news\" id=\"up_25679388\"><div class=\"votearrow\" title=\"upvote\"></div></a></center></td><td class=\"title\"><a class=\"storylink\" href=\"https://krebsonsecurity.com/2021/01/sealed-u-s-court-records-exposed-in-solarwinds-breach/\">Sealed U.S. Court Records Exposed in SolarWinds Breach</a><span class=\"sitebit comhead\"> (<a href=\"from?site=krebsonsecurity.com\"><span class=\"sitestr\">krebsonsecurity.com</span></a>)</span></td></tr>,\n",
       " <tr><td colspan=\"2\"></td><td class=\"subtext\">\n",
       " <span class=\"score\" id=\"score_25679388\">353 points</span> by <a class=\"hnuser\" href=\"user?id=parsecs\">parsecs</a> <span class=\"age\"><a href=\"item?id=25679388\">14 hours ago</a></span> <span id=\"unv_25679388\"></span> | <a href=\"hide?id=25679388&amp;goto=news\">hide</a> | <a href=\"item?id=25679388\">113 comments</a> </td></tr>,\n",
       " <tr class=\"spacer\" style=\"height:5px\"></tr>,\n",
       " <tr class=\"athing\" id=\"25676660\">\n",
       " <td align=\"right\" class=\"title\" valign=\"top\"><span class=\"rank\">15.</span></td> <td class=\"votelinks\" valign=\"top\"><center><a href=\"vote?id=25676660&amp;how=up&amp;goto=news\" id=\"up_25676660\"><div class=\"votearrow\" title=\"upvote\"></div></a></center></td><td class=\"title\"><a class=\"storylink\" href=\"http://jamie-wong.com/2014/08/19/metaballs-and-marching-squares/\">Metaballs and Marching Squares</a><span class=\"sitebit comhead\"> (<a href=\"from?site=jamie-wong.com\"><span class=\"sitestr\">jamie-wong.com</span></a>)</span></td></tr>,\n",
       " <tr><td colspan=\"2\"></td><td class=\"subtext\">\n",
       " <span class=\"score\" id=\"score_25676660\">73 points</span> by <a class=\"hnuser\" href=\"user?id=bobbiechen\">bobbiechen</a> <span class=\"age\"><a href=\"item?id=25676660\">9 hours ago</a></span> <span id=\"unv_25676660\"></span> | <a href=\"hide?id=25676660&amp;goto=news\">hide</a> | <a href=\"item?id=25676660\">21 comments</a> </td></tr>,\n",
       " <tr class=\"spacer\" style=\"height:5px\"></tr>,\n",
       " <tr class=\"athing\" id=\"25673951\">\n",
       " <td align=\"right\" class=\"title\" valign=\"top\"><span class=\"rank\">16.</span></td> <td class=\"votelinks\" valign=\"top\"><center><a href=\"vote?id=25673951&amp;how=up&amp;goto=news\" id=\"up_25673951\"><div class=\"votearrow\" title=\"upvote\"></div></a></center></td><td class=\"title\"><a class=\"storylink\" href=\"https://www.newyorker.com/culture/culture-desk/a-new-history-of-arabia-written-in-stone/\">A New History of Arabia, Written in Stone (2018)</a><span class=\"sitebit comhead\"> (<a href=\"from?site=newyorker.com\"><span class=\"sitestr\">newyorker.com</span></a>)</span></td></tr>,\n",
       " <tr><td colspan=\"2\"></td><td class=\"subtext\">\n",
       " <span class=\"score\" id=\"score_25673951\">29 points</span> by <a class=\"hnuser\" href=\"user?id=Tomte\">Tomte</a> <span class=\"age\"><a href=\"item?id=25673951\">7 hours ago</a></span> <span id=\"unv_25673951\"></span> | <a href=\"hide?id=25673951&amp;goto=news\">hide</a> | <a href=\"item?id=25673951\">5 comments</a> </td></tr>,\n",
       " <tr class=\"spacer\" style=\"height:5px\"></tr>,\n",
       " <tr class=\"athing\" id=\"25664867\">\n",
       " <td align=\"right\" class=\"title\" valign=\"top\"><span class=\"rank\">17.</span></td> <td class=\"votelinks\" valign=\"top\"><center><a href=\"vote?id=25664867&amp;how=up&amp;goto=news\" id=\"up_25664867\"><div class=\"votearrow\" title=\"upvote\"></div></a></center></td><td class=\"title\"><a class=\"storylink\" href=\"https://psyche.co/ideas/loves-contradictions-catullus-on-the-agony-of-infatuation\">Love’s contradictions: Catullus on the agony of infatuation</a><span class=\"sitebit comhead\"> (<a href=\"from?site=psyche.co\"><span class=\"sitestr\">psyche.co</span></a>)</span></td></tr>,\n",
       " <tr><td colspan=\"2\"></td><td class=\"subtext\">\n",
       " <span class=\"score\" id=\"score_25664867\">68 points</span> by <a class=\"hnuser\" href=\"user?id=diodorus\">diodorus</a> <span class=\"age\"><a href=\"item?id=25664867\">11 hours ago</a></span> <span id=\"unv_25664867\"></span> | <a href=\"hide?id=25664867&amp;goto=news\">hide</a> | <a href=\"item?id=25664867\">14 comments</a> </td></tr>,\n",
       " <tr class=\"spacer\" style=\"height:5px\"></tr>,\n",
       " <tr class=\"athing\" id=\"25683151\">\n",
       " <td align=\"right\" class=\"title\" valign=\"top\"><span class=\"rank\">18.</span></td> <td class=\"votelinks\" valign=\"top\"><center><a href=\"vote?id=25683151&amp;how=up&amp;goto=news\" id=\"up_25683151\"><div class=\"votearrow\" title=\"upvote\"></div></a></center></td><td class=\"title\"><a class=\"storylink\" href=\"https://hackaday.com/2021/01/08/the-amiga-1000-still-receiving-new-peripherals-35-years-later/\">The Amiga 1000, Still Receiving New Peripherals 35 Years Later</a><span class=\"sitebit comhead\"> (<a href=\"from?site=hackaday.com\"><span class=\"sitestr\">hackaday.com</span></a>)</span></td></tr>,\n",
       " <tr><td colspan=\"2\"></td><td class=\"subtext\">\n",
       " <span class=\"score\" id=\"score_25683151\">46 points</span> by <a class=\"hnuser\" href=\"user?id=sohkamyung\">sohkamyung</a> <span class=\"age\"><a href=\"item?id=25683151\">4 hours ago</a></span> <span id=\"unv_25683151\"></span> | <a href=\"hide?id=25683151&amp;goto=news\">hide</a> | <a href=\"item?id=25683151\">31 comments</a> </td></tr>,\n",
       " <tr class=\"spacer\" style=\"height:5px\"></tr>,\n",
       " <tr class=\"athing\" id=\"25677144\">\n",
       " <td align=\"right\" class=\"title\" valign=\"top\"><span class=\"rank\">19.</span></td> <td class=\"votelinks\" valign=\"top\"><center><a href=\"vote?id=25677144&amp;how=up&amp;goto=news\" id=\"up_25677144\"><div class=\"votearrow\" title=\"upvote\"></div></a></center></td><td class=\"title\"><a class=\"storylink\" href=\"https://www.bbc.com/reel/video/p0931jtk/the-nuclear-lighthouses-built-by-the-soviets-in-the-arctic\">Nuclear lighthouses built by the Soviets in the Arctic [video]</a><span class=\"sitebit comhead\"> (<a href=\"from?site=bbc.com\"><span class=\"sitestr\">bbc.com</span></a>)</span></td></tr>,\n",
       " <tr><td colspan=\"2\"></td><td class=\"subtext\">\n",
       " <span class=\"score\" id=\"score_25677144\">423 points</span> by <a class=\"hnuser\" href=\"user?id=etimberg\">etimberg</a> <span class=\"age\"><a href=\"item?id=25677144\">17 hours ago</a></span> <span id=\"unv_25677144\"></span> | <a href=\"hide?id=25677144&amp;goto=news\">hide</a> | <a href=\"item?id=25677144\">226 comments</a> </td></tr>,\n",
       " <tr class=\"spacer\" style=\"height:5px\"></tr>,\n",
       " <tr class=\"athing\" id=\"25679474\">\n",
       " <td align=\"right\" class=\"title\" valign=\"top\"><span class=\"rank\">20.</span></td> <td class=\"votelinks\" valign=\"top\"><center><a href=\"vote?id=25679474&amp;how=up&amp;goto=news\" id=\"up_25679474\"><div class=\"votearrow\" title=\"upvote\"></div></a></center></td><td class=\"title\"><a class=\"storylink\" href=\"https://www.strongtowns.org/journal/2021/1/6/college-campuses-as-a-model-for-urban-planning\">College campuses are designed at human-scale – cities can be too</a><span class=\"sitebit comhead\"> (<a href=\"from?site=strongtowns.org\"><span class=\"sitestr\">strongtowns.org</span></a>)</span></td></tr>,\n",
       " <tr><td colspan=\"2\"></td><td class=\"subtext\">\n",
       " <span class=\"score\" id=\"score_25679474\">218 points</span> by <a class=\"hnuser\" href=\"user?id=jseliger\">jseliger</a> <span class=\"age\"><a href=\"item?id=25679474\">14 hours ago</a></span> <span id=\"unv_25679474\"></span> | <a href=\"hide?id=25679474&amp;goto=news\">hide</a> | <a href=\"item?id=25679474\">98 comments</a> </td></tr>,\n",
       " <tr class=\"spacer\" style=\"height:5px\"></tr>,\n",
       " <tr class=\"athing\" id=\"25683402\">\n",
       " <td align=\"right\" class=\"title\" valign=\"top\"><span class=\"rank\">21.</span></td> <td class=\"votelinks\" valign=\"top\"><center><a href=\"vote?id=25683402&amp;how=up&amp;goto=news\" id=\"up_25683402\"><div class=\"votearrow\" title=\"upvote\"></div></a></center></td><td class=\"title\"><a class=\"storylink\" href=\"https://en.wikipedia.org/wiki/Wikipedia:Reliable_sources/Perennial_sources\">Wikipedia frequently-encountered sources, color-coded by perceived reliability</a><span class=\"sitebit comhead\"> (<a href=\"from?site=wikipedia.org\"><span class=\"sitestr\">wikipedia.org</span></a>)</span></td></tr>,\n",
       " <tr><td colspan=\"2\"></td><td class=\"subtext\">\n",
       " <span class=\"score\" id=\"score_25683402\">42 points</span> by <a class=\"hnuser\" href=\"user?id=ColinWright\">ColinWright</a> <span class=\"age\"><a href=\"item?id=25683402\">3 hours ago</a></span> <span id=\"unv_25683402\"></span> | <a href=\"hide?id=25683402&amp;goto=news\">hide</a> | <a href=\"item?id=25683402\">18 comments</a> </td></tr>,\n",
       " <tr class=\"spacer\" style=\"height:5px\"></tr>,\n",
       " <tr class=\"athing\" id=\"25673631\">\n",
       " <td align=\"right\" class=\"title\" valign=\"top\"><span class=\"rank\">22.</span></td> <td class=\"votelinks\" valign=\"top\"><center><a href=\"vote?id=25673631&amp;how=up&amp;goto=news\" id=\"up_25673631\"><div class=\"votearrow\" title=\"upvote\"></div></a></center></td><td class=\"title\"><a class=\"storylink\" href=\"https://rosenzweig.io/blog/asahi-gpu-part-1.html\">Dissecting the Apple M1 GPU, part I</a><span class=\"sitebit comhead\"> (<a href=\"from?site=rosenzweig.io\"><span class=\"sitestr\">rosenzweig.io</span></a>)</span></td></tr>,\n",
       " <tr><td colspan=\"2\"></td><td class=\"subtext\">\n",
       " <span class=\"score\" id=\"score_25673631\">507 points</span> by <a class=\"hnuser\" href=\"user?id=caution\">caution</a> <span class=\"age\"><a href=\"item?id=25673631\">21 hours ago</a></span> <span id=\"unv_25673631\"></span> | <a href=\"hide?id=25673631&amp;goto=news\">hide</a> | <a href=\"item?id=25673631\">118 comments</a> </td></tr>,\n",
       " <tr class=\"spacer\" style=\"height:5px\"></tr>,\n",
       " <tr class=\"athing\" id=\"25674964\">\n",
       " <td align=\"right\" class=\"title\" valign=\"top\"><span class=\"rank\">23.</span></td> <td class=\"votelinks\" valign=\"top\"><center><a href=\"vote?id=25674964&amp;how=up&amp;goto=news\" id=\"up_25674964\"><div class=\"votearrow\" title=\"upvote\"></div></a></center></td><td class=\"title\"><a class=\"storylink\" href=\"https://www.oregonlive.com/silicon-forest/2021/01/simple-portland-online-banker-is-shutting-down.html\">Simple Bank Is Closing</a><span class=\"sitebit comhead\"> (<a href=\"from?site=oregonlive.com\"><span class=\"sitestr\">oregonlive.com</span></a>)</span></td></tr>,\n",
       " <tr><td colspan=\"2\"></td><td class=\"subtext\">\n",
       " <span class=\"score\" id=\"score_25674964\">461 points</span> by <a class=\"hnuser\" href=\"user?id=roberto8647\">roberto8647</a> <span class=\"age\"><a href=\"item?id=25674964\">19 hours ago</a></span> <span id=\"unv_25674964\"></span> | <a href=\"hide?id=25674964&amp;goto=news\">hide</a> | <a href=\"item?id=25674964\">514 comments</a> </td></tr>,\n",
       " <tr class=\"spacer\" style=\"height:5px\"></tr>,\n",
       " <tr class=\"athing\" id=\"25654955\">\n",
       " <td align=\"right\" class=\"title\" valign=\"top\"><span class=\"rank\">24.</span></td> <td class=\"votelinks\" valign=\"top\"><center><a href=\"vote?id=25654955&amp;how=up&amp;goto=news\" id=\"up_25654955\"><div class=\"votearrow\" title=\"upvote\"></div></a></center></td><td class=\"title\"><a class=\"storylink\" href=\"https://github.com/norvig/pytudes/blob/master/ipynb/Advent-2020.ipynb\">Peter Norvig's “pytudes” for Advent of Code 2020</a><span class=\"sitebit comhead\"> (<a href=\"from?site=github.com/norvig\"><span class=\"sitestr\">github.com/norvig</span></a>)</span></td></tr>,\n",
       " <tr><td colspan=\"2\"></td><td class=\"subtext\">\n",
       " <span class=\"score\" id=\"score_25654955\">265 points</span> by <a class=\"hnuser\" href=\"user?id=ff7f00\">ff7f00</a> <span class=\"age\"><a href=\"item?id=25654955\">15 hours ago</a></span> <span id=\"unv_25654955\"></span> | <a href=\"hide?id=25654955&amp;goto=news\">hide</a> | <a href=\"item?id=25654955\">71 comments</a> </td></tr>,\n",
       " <tr class=\"spacer\" style=\"height:5px\"></tr>,\n",
       " <tr class=\"athing\" id=\"25677272\">\n",
       " <td align=\"right\" class=\"title\" valign=\"top\"><span class=\"rank\">25.</span></td> <td class=\"votelinks\" valign=\"top\"><center><a href=\"vote?id=25677272&amp;how=up&amp;goto=news\" id=\"up_25677272\"><div class=\"votearrow\" title=\"upvote\"></div></a></center></td><td class=\"title\"><a class=\"storylink\" href=\"https://synergyjs.org\">Show HN: I built a 4kb alternative to React, Vue, etc for building web UIs.</a><span class=\"sitebit comhead\"> (<a href=\"from?site=synergyjs.org\"><span class=\"sitestr\">synergyjs.org</span></a>)</span></td></tr>,\n",
       " <tr><td colspan=\"2\"></td><td class=\"subtext\">\n",
       " <span class=\"score\" id=\"score_25677272\">299 points</span> by <a class=\"hnuser\" href=\"user?id=defx\">defx</a> <span class=\"age\"><a href=\"item?id=25677272\">17 hours ago</a></span> <span id=\"unv_25677272\"></span> | <a href=\"hide?id=25677272&amp;goto=news\">hide</a> | <a href=\"item?id=25677272\">123 comments</a> </td></tr>,\n",
       " <tr class=\"spacer\" style=\"height:5px\"></tr>,\n",
       " <tr class=\"athing\" id=\"25682359\">\n",
       " <td align=\"right\" class=\"title\" valign=\"top\"><span class=\"rank\">26.</span></td> <td class=\"votelinks\" valign=\"top\"><center><a href=\"vote?id=25682359&amp;how=up&amp;goto=news\" id=\"up_25682359\"><div class=\"votearrow\" title=\"upvote\"></div></a></center></td><td class=\"title\"><a class=\"storylink\" href=\"https://acoup.blog/2021/01/08/collections-that-dothraki-horde-part-iv-screamers-and-howlers/\">Collections: That Dothraki Horde, Part IV: Screamers and Howlers</a><span class=\"sitebit comhead\"> (<a href=\"from?site=acoup.blog\"><span class=\"sitestr\">acoup.blog</span></a>)</span></td></tr>,\n",
       " <tr><td colspan=\"2\"></td><td class=\"subtext\">\n",
       " <span class=\"score\" id=\"score_25682359\">12 points</span> by <a class=\"hnuser\" href=\"user?id=Illniyar\">Illniyar</a> <span class=\"age\"><a href=\"item?id=25682359\">6 hours ago</a></span> <span id=\"unv_25682359\"></span> | <a href=\"hide?id=25682359&amp;goto=news\">hide</a> | <a href=\"item?id=25682359\">4 comments</a> </td></tr>,\n",
       " <tr class=\"spacer\" style=\"height:5px\"></tr>,\n",
       " <tr class=\"athing\" id=\"25673275\">\n",
       " <td align=\"right\" class=\"title\" valign=\"top\"><span class=\"rank\">27.</span></td> <td class=\"votelinks\" valign=\"top\"><center><a href=\"vote?id=25673275&amp;how=up&amp;goto=news\" id=\"up_25673275\"><div class=\"votearrow\" title=\"upvote\"></div></a></center></td><td class=\"title\"><a class=\"storylink\" href=\"https://sahillavingia.com/work\">No meetings, no deadlines, no full-time employees</a><span class=\"sitebit comhead\"> (<a href=\"from?site=sahillavingia.com\"><span class=\"sitestr\">sahillavingia.com</span></a>)</span></td></tr>,\n",
       " <tr><td colspan=\"2\"></td><td class=\"subtext\">\n",
       " <span class=\"score\" id=\"score_25673275\">1204 points</span> by <a class=\"hnuser\" href=\"user?id=sahillavingia\">sahillavingia</a> <span class=\"age\"><a href=\"item?id=25673275\">21 hours ago</a></span> <span id=\"unv_25673275\"></span> | <a href=\"hide?id=25673275&amp;goto=news\">hide</a> | <a href=\"item?id=25673275\">424 comments</a> </td></tr>,\n",
       " <tr class=\"spacer\" style=\"height:5px\"></tr>,\n",
       " <tr class=\"athing\" id=\"25680125\">\n",
       " <td align=\"right\" class=\"title\" valign=\"top\"><span class=\"rank\">28.</span></td> <td class=\"votelinks\" valign=\"top\"><center><a href=\"vote?id=25680125&amp;how=up&amp;goto=news\" id=\"up_25680125\"><div class=\"votearrow\" title=\"upvote\"></div></a></center></td><td class=\"title\"><a class=\"storylink\" href=\"https://paweldziepak.dev/2019/06/21/avoiding-icache-misses/\">Avoiding instruction cache misses (2019)</a><span class=\"sitebit comhead\"> (<a href=\"from?site=paweldziepak.dev\"><span class=\"sitestr\">paweldziepak.dev</span></a>)</span></td></tr>,\n",
       " <tr><td colspan=\"2\"></td><td class=\"subtext\">\n",
       " <span class=\"score\" id=\"score_25680125\">58 points</span> by <a class=\"hnuser\" href=\"user?id=nkurz\">nkurz</a> <span class=\"age\"><a href=\"item?id=25680125\">12 hours ago</a></span> <span id=\"unv_25680125\"></span> | <a href=\"hide?id=25680125&amp;goto=news\">hide</a> | <a href=\"item?id=25680125\">12 comments</a> </td></tr>,\n",
       " <tr class=\"spacer\" style=\"height:5px\"></tr>,\n",
       " <tr class=\"athing\" id=\"25675249\">\n",
       " <td align=\"right\" class=\"title\" valign=\"top\"><span class=\"rank\">29.</span></td> <td class=\"votelinks\" valign=\"top\"><center><a href=\"vote?id=25675249&amp;how=up&amp;goto=news\" id=\"up_25675249\"><div class=\"votearrow\" title=\"upvote\"></div></a></center></td><td class=\"title\"><a class=\"storylink\" href=\"https://www.epicgames.com/site/en-US/news/epic-acquires-rad-game-tools\">Epic acquires RAD Game Tools</a><span class=\"sitebit comhead\"> (<a href=\"from?site=epicgames.com\"><span class=\"sitestr\">epicgames.com</span></a>)</span></td></tr>,\n",
       " <tr><td colspan=\"2\"></td><td class=\"subtext\">\n",
       " <span class=\"score\" id=\"score_25675249\">249 points</span> by <a class=\"hnuser\" href=\"user?id=jsheard\">jsheard</a> <span class=\"age\"><a href=\"item?id=25675249\">19 hours ago</a></span> <span id=\"unv_25675249\"></span> | <a href=\"hide?id=25675249&amp;goto=news\">hide</a> | <a href=\"item?id=25675249\">168 comments</a> </td></tr>,\n",
       " <tr class=\"spacer\" style=\"height:5px\"></tr>,\n",
       " <tr class=\"athing\" id=\"25675556\">\n",
       " <td align=\"right\" class=\"title\" valign=\"top\"><span class=\"rank\">30.</span></td> <td class=\"votelinks\" valign=\"top\"><center><a href=\"vote?id=25675556&amp;how=up&amp;goto=news\" id=\"up_25675556\"><div class=\"votearrow\" title=\"upvote\"></div></a></center></td><td class=\"title\"><a class=\"storylink\" href=\"https://ninjalab.io/a-side-journey-to-titan/\">CVE-2021-3011: Key recovery on Google Titan Key</a><span class=\"sitebit comhead\"> (<a href=\"from?site=ninjalab.io\"><span class=\"sitestr\">ninjalab.io</span></a>)</span></td></tr>,\n",
       " <tr><td colspan=\"2\"></td><td class=\"subtext\">\n",
       " <span class=\"score\" id=\"score_25675556\">228 points</span> by <a class=\"hnuser\" href=\"user?id=hexa-\">hexa-</a> <span class=\"age\"><a href=\"item?id=25675556\">19 hours ago</a></span> <span id=\"unv_25675556\"></span> | <a href=\"hide?id=25675556&amp;goto=news\">hide</a> | <a href=\"item?id=25675556\">74 comments</a> </td></tr>,\n",
       " <tr class=\"spacer\" style=\"height:5px\"></tr>,\n",
       " <tr class=\"morespace\" style=\"height:10px\"></tr>,\n",
       " <tr><td colspan=\"2\"></td><td class=\"title\"><a class=\"morelink\" href=\"news?p=2\" rel=\"next\">More</a></td></tr>,\n",
       " <tr><td><img height=\"10\" src=\"s.gif\" width=\"0\"/><table cellpadding=\"1\" cellspacing=\"0\" width=\"100%\"><tr><td bgcolor=\"#ff6600\"></td></tr></table><br/><center><span class=\"yclinks\"><a href=\"newsguidelines.html\">Guidelines</a>\n",
       "         | <a href=\"newsfaq.html\">FAQ</a>\n",
       "         | <a href=\"lists\">Lists</a>\n",
       "         | <a href=\"https://github.com/HackerNews/API\">API</a>\n",
       "         | <a href=\"security.html\">Security</a>\n",
       "         | <a href=\"http://www.ycombinator.com/legal/\">Legal</a>\n",
       "         | <a href=\"http://www.ycombinator.com/apply/\">Apply to YC</a>\n",
       "         | <a href=\"mailto:hn@ycombinator.com\">Contact</a></span><br/><br/><form action=\"//hn.algolia.com/\" method=\"get\">Search:\n",
       "           <input autocapitalize=\"off\" autocomplete=\"false\" autocorrect=\"off\" name=\"q\" size=\"17\" spellcheck=\"false\" type=\"text\" value=\"\"/></form>\n",
       " </center></td></tr>,\n",
       " <tr><td bgcolor=\"#ff6600\"></td></tr>]"
      ]
     },
     "metadata": {},
     "execution_count": 76
    }
   ]
  },
  {
   "cell_type": "code",
   "execution_count": 77,
   "metadata": {},
   "outputs": [
    {
     "output_type": "execute_result",
     "data": {
      "text/plain": [
       "98"
      ]
     },
     "metadata": {},
     "execution_count": 77
    }
   ],
   "source": [
    "len(trs)"
   ]
  },
  {
   "source": [
    "# 查找分數有空值  \n",
    "使用td進行查找"
   ],
   "cell_type": "markdown",
   "metadata": {}
  },
  {
   "cell_type": "code",
   "execution_count": 78,
   "metadata": {},
   "outputs": [
    {
     "output_type": "stream",
     "name": "stdout",
     "text": [
      "<td class=\"subtext\">\n<span class=\"score\" id=\"score_25684114\">58 points</span> by <a class=\"hnuser\" href=\"user?id=chrischapman\">chrischapman</a> <span class=\"age\"><a href=\"item?id=25684114\">1 hour ago</a></span> <span id=\"unv_25684114\"></span> | <a href=\"hide?id=25684114&amp;goto=news\">hide</a> | <a href=\"item?id=25684114\">24 comments</a> </td>\n<td class=\"subtext\">\n<span class=\"score\" id=\"score_25684293\">35 points</span> by <a class=\"hnuser\" href=\"user?id=mpweiher\">mpweiher</a> <span class=\"age\"><a href=\"item?id=25684293\">1 hour ago</a></span> <span id=\"unv_25684293\"></span> | <a href=\"hide?id=25684293&amp;goto=news\">hide</a> | <a href=\"item?id=25684293\">2 comments</a> </td>\n<td class=\"subtext\">\n<span class=\"score\" id=\"score_25684248\">13 points</span> by <a class=\"hnuser\" href=\"user?id=infodocket\">infodocket</a> <span class=\"age\"><a href=\"item?id=25684248\">1 hour ago</a></span> <span id=\"unv_25684248\"></span> | <a href=\"hide?id=25684248&amp;goto=news\">hide</a> | <a href=\"item?id=25684248\">2 comments</a> </td>\n<td class=\"subtext\">\n<span class=\"score\" id=\"score_25682103\">179 points</span> by <a class=\"hnuser\" href=\"user?id=vyuh\">vyuh</a> <span class=\"age\"><a href=\"item?id=25682103\">7 hours ago</a></span> <span id=\"unv_25682103\"></span> | <a href=\"hide?id=25682103&amp;goto=news\">hide</a> | <a href=\"item?id=25682103\">34 comments</a> </td>\n<td class=\"subtext\">\n<span class=\"score\" id=\"score_25683615\">129 points</span> by <a class=\"hnuser\" href=\"user?id=ColinWright\">ColinWright</a> <span class=\"age\"><a href=\"item?id=25683615\">2 hours ago</a></span> <span id=\"unv_25683615\"></span> | <a href=\"hide?id=25683615&amp;goto=news\">hide</a> | <a href=\"item?id=25683615\">90 comments</a> </td>\n<td class=\"subtext\">\n<span class=\"score\" id=\"score_25683420\">38 points</span> by <a class=\"hnuser\" href=\"user?id=signa11\">signa11</a> <span class=\"age\"><a href=\"item?id=25683420\">3 hours ago</a></span> <span id=\"unv_25683420\"></span> | <a href=\"hide?id=25683420&amp;goto=news\">hide</a> | <a href=\"item?id=25683420\">17 comments</a> </td>\n<td class=\"subtext\">\n<span class=\"score\" id=\"score_25671452\">249 points</span> by <a class=\"hnuser\" href=\"user?id=samizdis\">samizdis</a> <span class=\"age\"><a href=\"item?id=25671452\">10 hours ago</a></span> <span id=\"unv_25671452\"></span> | <a href=\"hide?id=25671452&amp;goto=news\">hide</a> | <a href=\"item?id=25671452\">119 comments</a> </td>\n<td class=\"subtext\">\n<span class=\"score\" id=\"score_25683808\">21 points</span> by <a class=\"hnuser\" href=\"user?id=jalammar\">jalammar</a> <span class=\"age\"><a href=\"item?id=25683808\">2 hours ago</a></span> <span id=\"unv_25683808\"></span> | <a href=\"hide?id=25683808&amp;goto=news\">hide</a> | <a href=\"item?id=25683808\">9 comments</a> </td>\n<td class=\"subtext\">\n<span class=\"score\" id=\"score_25683727\">76 points</span> by <a class=\"hnuser\" href=\"user?id=Tomte\">Tomte</a> <span class=\"age\"><a href=\"item?id=25683727\">2 hours ago</a></span> <span id=\"unv_25683727\"></span> | <a href=\"hide?id=25683727&amp;goto=news\">hide</a> | <a href=\"item?id=25683727\">58 comments</a> </td>\n<td class=\"subtext\">\n<span class=\"age\"><a href=\"item?id=25683760\">2 hours ago</a></span> | <a href=\"hide?id=25683760&amp;goto=news\">hide</a> </td>\n<td class=\"subtext\">\n<span class=\"score\" id=\"score_25681362\">153 points</span> by <a class=\"hnuser\" href=\"user?id=g42gregory\">g42gregory</a> <span class=\"age\"><a href=\"item?id=25681362\">10 hours ago</a></span> <span id=\"unv_25681362\"></span> | <a href=\"hide?id=25681362&amp;goto=news\">hide</a> | <a href=\"item?id=25681362\">128 comments</a> </td>\n<td class=\"subtext\">\n<span class=\"score\" id=\"score_25682785\">193 points</span> by <a class=\"hnuser\" href=\"user?id=DyslexicAtheist\">DyslexicAtheist</a> <span class=\"age\"><a href=\"item?id=25682785\">5 hours ago</a></span> <span id=\"unv_25682785\"></span> | <a href=\"hide?id=25682785&amp;goto=news\">hide</a> | <a href=\"item?id=25682785\">58 comments</a> </td>\n<td class=\"subtext\">\n<span class=\"score\" id=\"score_25683158\">16 points</span> by <a class=\"hnuser\" href=\"user?id=Tomte\">Tomte</a> <span class=\"age\"><a href=\"item?id=25683158\">4 hours ago</a></span> <span id=\"unv_25683158\"></span> | <a href=\"hide?id=25683158&amp;goto=news\">hide</a> | <a href=\"item?id=25683158\">1 comment</a> </td>\n<td class=\"subtext\">\n<span class=\"score\" id=\"score_25679388\">353 points</span> by <a class=\"hnuser\" href=\"user?id=parsecs\">parsecs</a> <span class=\"age\"><a href=\"item?id=25679388\">14 hours ago</a></span> <span id=\"unv_25679388\"></span> | <a href=\"hide?id=25679388&amp;goto=news\">hide</a> | <a href=\"item?id=25679388\">113 comments</a> </td>\n<td class=\"subtext\">\n<span class=\"score\" id=\"score_25676660\">73 points</span> by <a class=\"hnuser\" href=\"user?id=bobbiechen\">bobbiechen</a> <span class=\"age\"><a href=\"item?id=25676660\">9 hours ago</a></span> <span id=\"unv_25676660\"></span> | <a href=\"hide?id=25676660&amp;goto=news\">hide</a> | <a href=\"item?id=25676660\">21 comments</a> </td>\n<td class=\"subtext\">\n<span class=\"score\" id=\"score_25673951\">29 points</span> by <a class=\"hnuser\" href=\"user?id=Tomte\">Tomte</a> <span class=\"age\"><a href=\"item?id=25673951\">7 hours ago</a></span> <span id=\"unv_25673951\"></span> | <a href=\"hide?id=25673951&amp;goto=news\">hide</a> | <a href=\"item?id=25673951\">5 comments</a> </td>\n<td class=\"subtext\">\n<span class=\"score\" id=\"score_25664867\">68 points</span> by <a class=\"hnuser\" href=\"user?id=diodorus\">diodorus</a> <span class=\"age\"><a href=\"item?id=25664867\">11 hours ago</a></span> <span id=\"unv_25664867\"></span> | <a href=\"hide?id=25664867&amp;goto=news\">hide</a> | <a href=\"item?id=25664867\">14 comments</a> </td>\n<td class=\"subtext\">\n<span class=\"score\" id=\"score_25683151\">46 points</span> by <a class=\"hnuser\" href=\"user?id=sohkamyung\">sohkamyung</a> <span class=\"age\"><a href=\"item?id=25683151\">4 hours ago</a></span> <span id=\"unv_25683151\"></span> | <a href=\"hide?id=25683151&amp;goto=news\">hide</a> | <a href=\"item?id=25683151\">31 comments</a> </td>\n<td class=\"subtext\">\n<span class=\"score\" id=\"score_25677144\">423 points</span> by <a class=\"hnuser\" href=\"user?id=etimberg\">etimberg</a> <span class=\"age\"><a href=\"item?id=25677144\">17 hours ago</a></span> <span id=\"unv_25677144\"></span> | <a href=\"hide?id=25677144&amp;goto=news\">hide</a> | <a href=\"item?id=25677144\">226 comments</a> </td>\n<td class=\"subtext\">\n<span class=\"score\" id=\"score_25679474\">218 points</span> by <a class=\"hnuser\" href=\"user?id=jseliger\">jseliger</a> <span class=\"age\"><a href=\"item?id=25679474\">14 hours ago</a></span> <span id=\"unv_25679474\"></span> | <a href=\"hide?id=25679474&amp;goto=news\">hide</a> | <a href=\"item?id=25679474\">98 comments</a> </td>\n<td class=\"subtext\">\n<span class=\"score\" id=\"score_25683402\">42 points</span> by <a class=\"hnuser\" href=\"user?id=ColinWright\">ColinWright</a> <span class=\"age\"><a href=\"item?id=25683402\">3 hours ago</a></span> <span id=\"unv_25683402\"></span> | <a href=\"hide?id=25683402&amp;goto=news\">hide</a> | <a href=\"item?id=25683402\">18 comments</a> </td>\n<td class=\"subtext\">\n<span class=\"score\" id=\"score_25673631\">507 points</span> by <a class=\"hnuser\" href=\"user?id=caution\">caution</a> <span class=\"age\"><a href=\"item?id=25673631\">21 hours ago</a></span> <span id=\"unv_25673631\"></span> | <a href=\"hide?id=25673631&amp;goto=news\">hide</a> | <a href=\"item?id=25673631\">118 comments</a> </td>\n<td class=\"subtext\">\n<span class=\"score\" id=\"score_25674964\">461 points</span> by <a class=\"hnuser\" href=\"user?id=roberto8647\">roberto8647</a> <span class=\"age\"><a href=\"item?id=25674964\">19 hours ago</a></span> <span id=\"unv_25674964\"></span> | <a href=\"hide?id=25674964&amp;goto=news\">hide</a> | <a href=\"item?id=25674964\">514 comments</a> </td>\n<td class=\"subtext\">\n<span class=\"score\" id=\"score_25654955\">265 points</span> by <a class=\"hnuser\" href=\"user?id=ff7f00\">ff7f00</a> <span class=\"age\"><a href=\"item?id=25654955\">15 hours ago</a></span> <span id=\"unv_25654955\"></span> | <a href=\"hide?id=25654955&amp;goto=news\">hide</a> | <a href=\"item?id=25654955\">71 comments</a> </td>\n<td class=\"subtext\">\n<span class=\"score\" id=\"score_25677272\">299 points</span> by <a class=\"hnuser\" href=\"user?id=defx\">defx</a> <span class=\"age\"><a href=\"item?id=25677272\">17 hours ago</a></span> <span id=\"unv_25677272\"></span> | <a href=\"hide?id=25677272&amp;goto=news\">hide</a> | <a href=\"item?id=25677272\">123 comments</a> </td>\n<td class=\"subtext\">\n<span class=\"score\" id=\"score_25682359\">12 points</span> by <a class=\"hnuser\" href=\"user?id=Illniyar\">Illniyar</a> <span class=\"age\"><a href=\"item?id=25682359\">6 hours ago</a></span> <span id=\"unv_25682359\"></span> | <a href=\"hide?id=25682359&amp;goto=news\">hide</a> | <a href=\"item?id=25682359\">4 comments</a> </td>\n<td class=\"subtext\">\n<span class=\"score\" id=\"score_25673275\">1204 points</span> by <a class=\"hnuser\" href=\"user?id=sahillavingia\">sahillavingia</a> <span class=\"age\"><a href=\"item?id=25673275\">21 hours ago</a></span> <span id=\"unv_25673275\"></span> | <a href=\"hide?id=25673275&amp;goto=news\">hide</a> | <a href=\"item?id=25673275\">424 comments</a> </td>\n<td class=\"subtext\">\n<span class=\"score\" id=\"score_25680125\">58 points</span> by <a class=\"hnuser\" href=\"user?id=nkurz\">nkurz</a> <span class=\"age\"><a href=\"item?id=25680125\">12 hours ago</a></span> <span id=\"unv_25680125\"></span> | <a href=\"hide?id=25680125&amp;goto=news\">hide</a> | <a href=\"item?id=25680125\">12 comments</a> </td>\n<td class=\"subtext\">\n<span class=\"score\" id=\"score_25675249\">249 points</span> by <a class=\"hnuser\" href=\"user?id=jsheard\">jsheard</a> <span class=\"age\"><a href=\"item?id=25675249\">19 hours ago</a></span> <span id=\"unv_25675249\"></span> | <a href=\"hide?id=25675249&amp;goto=news\">hide</a> | <a href=\"item?id=25675249\">168 comments</a> </td>\n<td class=\"subtext\">\n<span class=\"score\" id=\"score_25675556\">228 points</span> by <a class=\"hnuser\" href=\"user?id=hexa-\">hexa-</a> <span class=\"age\"><a href=\"item?id=25675556\">19 hours ago</a></span> <span id=\"unv_25675556\"></span> | <a href=\"hide?id=25675556&amp;goto=news\">hide</a> | <a href=\"item?id=25675556\">74 comments</a> </td>\n"
     ]
    }
   ],
   "source": [
    "scores=[]\n",
    "for td in soup.find_all('td',class_='subtext'):\n",
    "    print(td)\n",
    "    score=td.select_one('.score')\n",
    "    if score==None:\n",
    "        scores.append(0)\n",
    "    else:\n",
    "        scores.append(int(score.text.split(' ')[0]))"
   ]
  },
  {
   "source": [
    "scores"
   ],
   "cell_type": "markdown",
   "metadata": {}
  },
  {
   "cell_type": "code",
   "execution_count": 79,
   "metadata": {},
   "outputs": [
    {
     "output_type": "execute_result",
     "data": {
      "text/plain": [
       "[['Google Chrome browser privacy plan investigated in UK',\n",
       "  'https://www.bbc.co.uk/news/technology-55219750',\n",
       "  58],\n",
       " [\"Victory at the High Court against the government’s use of 'general warrants’\",\n",
       "  'https://privacyinternational.org/press-release/4358/victory-high-court-against-governments-use-general-warrants',\n",
       "  35],\n",
       " [\"World's Busiest International and Domestic Air Routes Right Now\",\n",
       "  'https://www.oag.com/busiest-routes-right-now',\n",
       "  13],\n",
       " ['Scipy Lecture Notes', 'http://www.scipy-lectures.org/index.html', 179],\n",
       " [\"Apple's privacy labels show WhatsApp and Facebook Messenger hunger for user data\",\n",
       "  'https://www.techradar.com/news/apples-privacy-labels-reveals-whatsapp-and-facebook-messengers-hunger-for-user-data',\n",
       "  129],\n",
       " ['Doing Symbolic Math with SymPy', 'https://lwn.net/Articles/840986/', 38],\n",
       " ['How Boston Dynamics Taught Its Robots to Dance',\n",
       "  'https://spectrum.ieee.org/automaton/robotics/humanoids/how-boston-dynamics-taught-its-robots-to-dance',\n",
       "  249],\n",
       " ['Show HN: Ecco – See what your NLP language model is “thinking”',\n",
       "  'https://www.eccox.io/',\n",
       "  21],\n",
       " ['WhatsApp Beaten by Apple’s New iMessage Privacy Update',\n",
       "  'https://www.forbes.com/sites/zakdoffman/2021/01/03/whatsapp-beaten-by-apples-new-imessage-update-for-iphone-users/',\n",
       "  76],\n",
       " ['Tab (YC, London) is hiring full stack developers (fintech/travel)',\n",
       "  'https://jobs.tab.travel/o/full-stack-developer-1',\n",
       "  0],\n",
       " ['How Tail Call Optimization Works',\n",
       "  'https://eklitzke.org/how-tail-call-optimization-works',\n",
       "  153],\n",
       " ['Texas Instruments sent a DMCA takedown to a site archiving data sheets',\n",
       "  'https://twitter.com/marcan42/status/1347403996332376065',\n",
       "  193],\n",
       " ['Restricted DMA',\n",
       "  'https://lwn.net/SubscriberLink/841916/3214238251863f9d/',\n",
       "  16],\n",
       " ['Sealed U.S. Court Records Exposed in SolarWinds Breach',\n",
       "  'https://krebsonsecurity.com/2021/01/sealed-u-s-court-records-exposed-in-solarwinds-breach/',\n",
       "  353],\n",
       " ['Metaballs and Marching Squares',\n",
       "  'http://jamie-wong.com/2014/08/19/metaballs-and-marching-squares/',\n",
       "  73],\n",
       " ['A New History of Arabia, Written in Stone (2018)',\n",
       "  'https://www.newyorker.com/culture/culture-desk/a-new-history-of-arabia-written-in-stone/',\n",
       "  29],\n",
       " ['Love’s contradictions: Catullus on the agony of infatuation',\n",
       "  'https://psyche.co/ideas/loves-contradictions-catullus-on-the-agony-of-infatuation',\n",
       "  68],\n",
       " ['The Amiga 1000, Still Receiving New Peripherals 35 Years Later',\n",
       "  'https://hackaday.com/2021/01/08/the-amiga-1000-still-receiving-new-peripherals-35-years-later/',\n",
       "  46],\n",
       " ['Nuclear lighthouses built by the Soviets in the Arctic [video]',\n",
       "  'https://www.bbc.com/reel/video/p0931jtk/the-nuclear-lighthouses-built-by-the-soviets-in-the-arctic',\n",
       "  423],\n",
       " ['College campuses are designed at human-scale – cities can be too',\n",
       "  'https://www.strongtowns.org/journal/2021/1/6/college-campuses-as-a-model-for-urban-planning',\n",
       "  218],\n",
       " ['Wikipedia frequently-encountered sources, color-coded by perceived reliability',\n",
       "  'https://en.wikipedia.org/wiki/Wikipedia:Reliable_sources/Perennial_sources',\n",
       "  42],\n",
       " ['Dissecting the Apple M1 GPU, part I',\n",
       "  'https://rosenzweig.io/blog/asahi-gpu-part-1.html',\n",
       "  507],\n",
       " ['Simple Bank Is Closing',\n",
       "  'https://www.oregonlive.com/silicon-forest/2021/01/simple-portland-online-banker-is-shutting-down.html',\n",
       "  461],\n",
       " [\"Peter Norvig's “pytudes” for Advent of Code 2020\",\n",
       "  'https://github.com/norvig/pytudes/blob/master/ipynb/Advent-2020.ipynb',\n",
       "  265],\n",
       " ['Show HN: I built a 4kb alternative to React, Vue, etc for building web UIs.',\n",
       "  'https://synergyjs.org',\n",
       "  299],\n",
       " ['Collections: That Dothraki Horde, Part IV: Screamers and Howlers',\n",
       "  'https://acoup.blog/2021/01/08/collections-that-dothraki-horde-part-iv-screamers-and-howlers/',\n",
       "  12],\n",
       " ['No meetings, no deadlines, no full-time employees',\n",
       "  'https://sahillavingia.com/work',\n",
       "  1204],\n",
       " ['Avoiding instruction cache misses (2019)',\n",
       "  'https://paweldziepak.dev/2019/06/21/avoiding-icache-misses/',\n",
       "  58],\n",
       " ['Epic acquires RAD Game Tools',\n",
       "  'https://www.epicgames.com/site/en-US/news/epic-acquires-rad-game-tools',\n",
       "  249],\n",
       " ['CVE-2021-3011: Key recovery on Google Titan Key',\n",
       "  'https://ninjalab.io/a-side-journey-to-titan/',\n",
       "  228]]"
      ]
     },
     "metadata": {},
     "execution_count": 79
    }
   ],
   "source": [
    "for i,data in enumerate(datas):\n",
    "    data.append(scores[i])\n",
    "datas\n"
   ]
  },
  {
   "source": [
    "# 進行新聞排序"
   ],
   "cell_type": "markdown",
   "metadata": {}
  },
  {
   "source": [
    "datas=sorted(datas,key=lambda x:x[-1],reverse=True)\n",
    "datas"
   ],
   "cell_type": "code",
   "metadata": {},
   "execution_count": null,
   "outputs": []
  },
  {
   "cell_type": "code",
   "execution_count": 82,
   "metadata": {},
   "outputs": [],
   "source": [
    "import pandas as pd"
   ]
  },
  {
   "cell_type": "code",
   "execution_count": 88,
   "metadata": {},
   "outputs": [
    {
     "output_type": "execute_result",
     "data": {
      "text/plain": [
       "                                                    0  \\\n",
       "0   No meetings, no deadlines, no full-time employees   \n",
       "1                 Dissecting the Apple M1 GPU, part I   \n",
       "2                              Simple Bank Is Closing   \n",
       "3   Nuclear lighthouses built by the Soviets in th...   \n",
       "4   Sealed U.S. Court Records Exposed in SolarWind...   \n",
       "5   Show HN: I built a 4kb alternative to React, V...   \n",
       "6    Peter Norvig's “pytudes” for Advent of Code 2020   \n",
       "7      How Boston Dynamics Taught Its Robots to Dance   \n",
       "8                        Epic acquires RAD Game Tools   \n",
       "9     CVE-2021-3011: Key recovery on Google Titan Key   \n",
       "10  College campuses are designed at human-scale –...   \n",
       "11  Texas Instruments sent a DMCA takedown to a si...   \n",
       "12                                Scipy Lecture Notes   \n",
       "13                   How Tail Call Optimization Works   \n",
       "14  Apple's privacy labels show WhatsApp and Faceb...   \n",
       "15  WhatsApp Beaten by Apple’s New iMessage Privac...   \n",
       "16                     Metaballs and Marching Squares   \n",
       "17  Love’s contradictions: Catullus on the agony o...   \n",
       "18  Google Chrome browser privacy plan investigate...   \n",
       "19           Avoiding instruction cache misses (2019)   \n",
       "20  The Amiga 1000, Still Receiving New Peripheral...   \n",
       "21  Wikipedia frequently-encountered sources, colo...   \n",
       "22                     Doing Symbolic Math with SymPy   \n",
       "23  Victory at the High Court against the governme...   \n",
       "24   A New History of Arabia, Written in Stone (2018)   \n",
       "25  Show HN: Ecco – See what your NLP language mod...   \n",
       "26                                     Restricted DMA   \n",
       "27  World's Busiest International and Domestic Air...   \n",
       "28  Collections: That Dothraki Horde, Part IV: Scr...   \n",
       "29  Tab (YC, London) is hiring full stack develope...   \n",
       "\n",
       "                                                    1     2  \n",
       "0                      https://sahillavingia.com/work  1204  \n",
       "1    https://rosenzweig.io/blog/asahi-gpu-part-1.html   507  \n",
       "2   https://www.oregonlive.com/silicon-forest/2021...   461  \n",
       "3   https://www.bbc.com/reel/video/p0931jtk/the-nu...   423  \n",
       "4   https://krebsonsecurity.com/2021/01/sealed-u-s...   353  \n",
       "5                               https://synergyjs.org   299  \n",
       "6   https://github.com/norvig/pytudes/blob/master/...   265  \n",
       "7   https://spectrum.ieee.org/automaton/robotics/h...   249  \n",
       "8   https://www.epicgames.com/site/en-US/news/epic...   249  \n",
       "9        https://ninjalab.io/a-side-journey-to-titan/   228  \n",
       "10  https://www.strongtowns.org/journal/2021/1/6/c...   218  \n",
       "11  https://twitter.com/marcan42/status/1347403996...   193  \n",
       "12           http://www.scipy-lectures.org/index.html   179  \n",
       "13  https://eklitzke.org/how-tail-call-optimizatio...   153  \n",
       "14  https://www.techradar.com/news/apples-privacy-...   129  \n",
       "15  https://www.forbes.com/sites/zakdoffman/2021/0...    76  \n",
       "16  http://jamie-wong.com/2014/08/19/metaballs-and...    73  \n",
       "17  https://psyche.co/ideas/loves-contradictions-c...    68  \n",
       "18     https://www.bbc.co.uk/news/technology-55219750    58  \n",
       "19  https://paweldziepak.dev/2019/06/21/avoiding-i...    58  \n",
       "20  https://hackaday.com/2021/01/08/the-amiga-1000...    46  \n",
       "21  https://en.wikipedia.org/wiki/Wikipedia:Reliab...    42  \n",
       "22                   https://lwn.net/Articles/840986/    38  \n",
       "23  https://privacyinternational.org/press-release...    35  \n",
       "24  https://www.newyorker.com/culture/culture-desk...    29  \n",
       "25                              https://www.eccox.io/    21  \n",
       "26  https://lwn.net/SubscriberLink/841916/32142382...    16  \n",
       "27       https://www.oag.com/busiest-routes-right-now    13  \n",
       "28  https://acoup.blog/2021/01/08/collections-that...    12  \n",
       "29   https://jobs.tab.travel/o/full-stack-developer-1     0  "
      ],
      "text/html": "<div>\n<style scoped>\n    .dataframe tbody tr th:only-of-type {\n        vertical-align: middle;\n    }\n\n    .dataframe tbody tr th {\n        vertical-align: top;\n    }\n\n    .dataframe thead th {\n        text-align: right;\n    }\n</style>\n<table border=\"1\" class=\"dataframe\">\n  <thead>\n    <tr style=\"text-align: right;\">\n      <th></th>\n      <th>0</th>\n      <th>1</th>\n      <th>2</th>\n    </tr>\n  </thead>\n  <tbody>\n    <tr>\n      <th>0</th>\n      <td>No meetings, no deadlines, no full-time employees</td>\n      <td>https://sahillavingia.com/work</td>\n      <td>1204</td>\n    </tr>\n    <tr>\n      <th>1</th>\n      <td>Dissecting the Apple M1 GPU, part I</td>\n      <td>https://rosenzweig.io/blog/asahi-gpu-part-1.html</td>\n      <td>507</td>\n    </tr>\n    <tr>\n      <th>2</th>\n      <td>Simple Bank Is Closing</td>\n      <td>https://www.oregonlive.com/silicon-forest/2021...</td>\n      <td>461</td>\n    </tr>\n    <tr>\n      <th>3</th>\n      <td>Nuclear lighthouses built by the Soviets in th...</td>\n      <td>https://www.bbc.com/reel/video/p0931jtk/the-nu...</td>\n      <td>423</td>\n    </tr>\n    <tr>\n      <th>4</th>\n      <td>Sealed U.S. Court Records Exposed in SolarWind...</td>\n      <td>https://krebsonsecurity.com/2021/01/sealed-u-s...</td>\n      <td>353</td>\n    </tr>\n    <tr>\n      <th>5</th>\n      <td>Show HN: I built a 4kb alternative to React, V...</td>\n      <td>https://synergyjs.org</td>\n      <td>299</td>\n    </tr>\n    <tr>\n      <th>6</th>\n      <td>Peter Norvig's “pytudes” for Advent of Code 2020</td>\n      <td>https://github.com/norvig/pytudes/blob/master/...</td>\n      <td>265</td>\n    </tr>\n    <tr>\n      <th>7</th>\n      <td>How Boston Dynamics Taught Its Robots to Dance</td>\n      <td>https://spectrum.ieee.org/automaton/robotics/h...</td>\n      <td>249</td>\n    </tr>\n    <tr>\n      <th>8</th>\n      <td>Epic acquires RAD Game Tools</td>\n      <td>https://www.epicgames.com/site/en-US/news/epic...</td>\n      <td>249</td>\n    </tr>\n    <tr>\n      <th>9</th>\n      <td>CVE-2021-3011: Key recovery on Google Titan Key</td>\n      <td>https://ninjalab.io/a-side-journey-to-titan/</td>\n      <td>228</td>\n    </tr>\n    <tr>\n      <th>10</th>\n      <td>College campuses are designed at human-scale –...</td>\n      <td>https://www.strongtowns.org/journal/2021/1/6/c...</td>\n      <td>218</td>\n    </tr>\n    <tr>\n      <th>11</th>\n      <td>Texas Instruments sent a DMCA takedown to a si...</td>\n      <td>https://twitter.com/marcan42/status/1347403996...</td>\n      <td>193</td>\n    </tr>\n    <tr>\n      <th>12</th>\n      <td>Scipy Lecture Notes</td>\n      <td>http://www.scipy-lectures.org/index.html</td>\n      <td>179</td>\n    </tr>\n    <tr>\n      <th>13</th>\n      <td>How Tail Call Optimization Works</td>\n      <td>https://eklitzke.org/how-tail-call-optimizatio...</td>\n      <td>153</td>\n    </tr>\n    <tr>\n      <th>14</th>\n      <td>Apple's privacy labels show WhatsApp and Faceb...</td>\n      <td>https://www.techradar.com/news/apples-privacy-...</td>\n      <td>129</td>\n    </tr>\n    <tr>\n      <th>15</th>\n      <td>WhatsApp Beaten by Apple’s New iMessage Privac...</td>\n      <td>https://www.forbes.com/sites/zakdoffman/2021/0...</td>\n      <td>76</td>\n    </tr>\n    <tr>\n      <th>16</th>\n      <td>Metaballs and Marching Squares</td>\n      <td>http://jamie-wong.com/2014/08/19/metaballs-and...</td>\n      <td>73</td>\n    </tr>\n    <tr>\n      <th>17</th>\n      <td>Love’s contradictions: Catullus on the agony o...</td>\n      <td>https://psyche.co/ideas/loves-contradictions-c...</td>\n      <td>68</td>\n    </tr>\n    <tr>\n      <th>18</th>\n      <td>Google Chrome browser privacy plan investigate...</td>\n      <td>https://www.bbc.co.uk/news/technology-55219750</td>\n      <td>58</td>\n    </tr>\n    <tr>\n      <th>19</th>\n      <td>Avoiding instruction cache misses (2019)</td>\n      <td>https://paweldziepak.dev/2019/06/21/avoiding-i...</td>\n      <td>58</td>\n    </tr>\n    <tr>\n      <th>20</th>\n      <td>The Amiga 1000, Still Receiving New Peripheral...</td>\n      <td>https://hackaday.com/2021/01/08/the-amiga-1000...</td>\n      <td>46</td>\n    </tr>\n    <tr>\n      <th>21</th>\n      <td>Wikipedia frequently-encountered sources, colo...</td>\n      <td>https://en.wikipedia.org/wiki/Wikipedia:Reliab...</td>\n      <td>42</td>\n    </tr>\n    <tr>\n      <th>22</th>\n      <td>Doing Symbolic Math with SymPy</td>\n      <td>https://lwn.net/Articles/840986/</td>\n      <td>38</td>\n    </tr>\n    <tr>\n      <th>23</th>\n      <td>Victory at the High Court against the governme...</td>\n      <td>https://privacyinternational.org/press-release...</td>\n      <td>35</td>\n    </tr>\n    <tr>\n      <th>24</th>\n      <td>A New History of Arabia, Written in Stone (2018)</td>\n      <td>https://www.newyorker.com/culture/culture-desk...</td>\n      <td>29</td>\n    </tr>\n    <tr>\n      <th>25</th>\n      <td>Show HN: Ecco – See what your NLP language mod...</td>\n      <td>https://www.eccox.io/</td>\n      <td>21</td>\n    </tr>\n    <tr>\n      <th>26</th>\n      <td>Restricted DMA</td>\n      <td>https://lwn.net/SubscriberLink/841916/32142382...</td>\n      <td>16</td>\n    </tr>\n    <tr>\n      <th>27</th>\n      <td>World's Busiest International and Domestic Air...</td>\n      <td>https://www.oag.com/busiest-routes-right-now</td>\n      <td>13</td>\n    </tr>\n    <tr>\n      <th>28</th>\n      <td>Collections: That Dothraki Horde, Part IV: Scr...</td>\n      <td>https://acoup.blog/2021/01/08/collections-that...</td>\n      <td>12</td>\n    </tr>\n    <tr>\n      <th>29</th>\n      <td>Tab (YC, London) is hiring full stack develope...</td>\n      <td>https://jobs.tab.travel/o/full-stack-developer-1</td>\n      <td>0</td>\n    </tr>\n  </tbody>\n</table>\n</div>"
     },
     "metadata": {},
     "execution_count": 88
    }
   ],
   "source": [
    "pd.DataFrame(datas)"
   ]
  },
  {
   "cell_type": "code",
   "execution_count": null,
   "metadata": {},
   "outputs": [],
   "source": []
  }
 ]
}